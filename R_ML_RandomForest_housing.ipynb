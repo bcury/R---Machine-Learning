{
  "nbformat": 4,
  "nbformat_minor": 0,
  "metadata": {
    "colab": {
      "name": "R_ML_RandomForest_housing",
      "provenance": [],
      "collapsed_sections": [],
      "authorship_tag": "ABX9TyNM2/LjzAzUBIfpDPXEnGg3",
      "include_colab_link": true
    },
    "kernelspec": {
      "name": "ir",
      "display_name": "R"
    },
    "language_info": {
      "name": "R"
    }
  },
  "cells": [
    {
      "cell_type": "markdown",
      "metadata": {
        "id": "view-in-github",
        "colab_type": "text"
      },
      "source": [
        "<a href=\"https://colab.research.google.com/github/bcury/R---Machine-Learning/blob/main/R_ML_RandomForest_housing.ipynb\" target=\"_parent\"><img src=\"https://colab.research.google.com/assets/colab-badge.svg\" alt=\"Open In Colab\"/></a>"
      ]
    },
    {
      "cell_type": "code",
      "execution_count": 4,
      "metadata": {
        "colab": {
          "base_uri": "https://localhost:8080/"
        },
        "id": "Gn2TZoDy5WeR",
        "outputId": "f8509993-f12f-4dfe-a504-7ff87626745c"
      },
      "outputs": [
        {
          "output_type": "stream",
          "name": "stderr",
          "text": [
            "\u001b[1mRows: \u001b[22m\u001b[34m20640\u001b[39m \u001b[1mColumns: \u001b[22m\u001b[34m10\u001b[39m\n",
            "\n",
            "\u001b[36m──\u001b[39m \u001b[1mColumn specification\u001b[22m \u001b[36m────────────────────────────────────────────────────────\u001b[39m\n",
            "\u001b[1mDelimiter:\u001b[22m \",\"\n",
            "\u001b[31mchr\u001b[39m (1): ocean_proximity\n",
            "\u001b[32mdbl\u001b[39m (9): longitude, latitude, housing_median_age, total_rooms, total_bedroom...\n",
            "\n",
            "\n",
            "\u001b[36mℹ\u001b[39m Use \u001b[30m\u001b[47m\u001b[30m\u001b[47m`spec()`\u001b[47m\u001b[30m\u001b[49m\u001b[39m to retrieve the full column specification for this data.\n",
            "\u001b[36mℹ\u001b[39m Specify the column types or set \u001b[30m\u001b[47m\u001b[30m\u001b[47m`show_col_types = FALSE`\u001b[47m\u001b[30m\u001b[49m\u001b[39m to quiet this message.\n",
            "\n"
          ]
        }
      ],
      "source": [
        "housing = read_csv('/content/housing.csv')"
      ]
    },
    {
      "cell_type": "code",
      "source": [
        "head(housing)"
      ],
      "metadata": {
        "colab": {
          "base_uri": "https://localhost:8080/",
          "height": 306
        },
        "id": "4HSIyuQY5eHX",
        "outputId": "ee696a29-d12a-496c-bf69-297c23770d56"
      },
      "execution_count": 5,
      "outputs": [
        {
          "output_type": "display_data",
          "data": {
            "text/plain": [
              "  longitude latitude housing_median_age total_rooms total_bedrooms population\n",
              "1 -122.23   37.88    41                  880         129            322      \n",
              "2 -122.22   37.86    21                 7099        1106           2401      \n",
              "3 -122.24   37.85    52                 1467         190            496      \n",
              "4 -122.25   37.85    52                 1274         235            558      \n",
              "5 -122.25   37.85    52                 1627         280            565      \n",
              "6 -122.25   37.85    52                  919         213            413      \n",
              "  households median_income median_house_value ocean_proximity\n",
              "1  126       8.3252        452600             NEAR BAY       \n",
              "2 1138       8.3014        358500             NEAR BAY       \n",
              "3  177       7.2574        352100             NEAR BAY       \n",
              "4  219       5.6431        341300             NEAR BAY       \n",
              "5  259       3.8462        342200             NEAR BAY       \n",
              "6  193       4.0368        269700             NEAR BAY       "
            ],
            "text/latex": "A tibble: 6 × 10\n\\begin{tabular}{llllllllll}\n longitude & latitude & housing\\_median\\_age & total\\_rooms & total\\_bedrooms & population & households & median\\_income & median\\_house\\_value & ocean\\_proximity\\\\\n <dbl> & <dbl> & <dbl> & <dbl> & <dbl> & <dbl> & <dbl> & <dbl> & <dbl> & <chr>\\\\\n\\hline\n\t -122.23 & 37.88 & 41 &  880 &  129 &  322 &  126 & 8.3252 & 452600 & NEAR BAY\\\\\n\t -122.22 & 37.86 & 21 & 7099 & 1106 & 2401 & 1138 & 8.3014 & 358500 & NEAR BAY\\\\\n\t -122.24 & 37.85 & 52 & 1467 &  190 &  496 &  177 & 7.2574 & 352100 & NEAR BAY\\\\\n\t -122.25 & 37.85 & 52 & 1274 &  235 &  558 &  219 & 5.6431 & 341300 & NEAR BAY\\\\\n\t -122.25 & 37.85 & 52 & 1627 &  280 &  565 &  259 & 3.8462 & 342200 & NEAR BAY\\\\\n\t -122.25 & 37.85 & 52 &  919 &  213 &  413 &  193 & 4.0368 & 269700 & NEAR BAY\\\\\n\\end{tabular}\n",
            "text/markdown": "\nA tibble: 6 × 10\n\n| longitude &lt;dbl&gt; | latitude &lt;dbl&gt; | housing_median_age &lt;dbl&gt; | total_rooms &lt;dbl&gt; | total_bedrooms &lt;dbl&gt; | population &lt;dbl&gt; | households &lt;dbl&gt; | median_income &lt;dbl&gt; | median_house_value &lt;dbl&gt; | ocean_proximity &lt;chr&gt; |\n|---|---|---|---|---|---|---|---|---|---|\n| -122.23 | 37.88 | 41 |  880 |  129 |  322 |  126 | 8.3252 | 452600 | NEAR BAY |\n| -122.22 | 37.86 | 21 | 7099 | 1106 | 2401 | 1138 | 8.3014 | 358500 | NEAR BAY |\n| -122.24 | 37.85 | 52 | 1467 |  190 |  496 |  177 | 7.2574 | 352100 | NEAR BAY |\n| -122.25 | 37.85 | 52 | 1274 |  235 |  558 |  219 | 5.6431 | 341300 | NEAR BAY |\n| -122.25 | 37.85 | 52 | 1627 |  280 |  565 |  259 | 3.8462 | 342200 | NEAR BAY |\n| -122.25 | 37.85 | 52 |  919 |  213 |  413 |  193 | 4.0368 | 269700 | NEAR BAY |\n\n",
            "text/html": [
              "<table class=\"dataframe\">\n",
              "<caption>A tibble: 6 × 10</caption>\n",
              "<thead>\n",
              "\t<tr><th scope=col>longitude</th><th scope=col>latitude</th><th scope=col>housing_median_age</th><th scope=col>total_rooms</th><th scope=col>total_bedrooms</th><th scope=col>population</th><th scope=col>households</th><th scope=col>median_income</th><th scope=col>median_house_value</th><th scope=col>ocean_proximity</th></tr>\n",
              "\t<tr><th scope=col>&lt;dbl&gt;</th><th scope=col>&lt;dbl&gt;</th><th scope=col>&lt;dbl&gt;</th><th scope=col>&lt;dbl&gt;</th><th scope=col>&lt;dbl&gt;</th><th scope=col>&lt;dbl&gt;</th><th scope=col>&lt;dbl&gt;</th><th scope=col>&lt;dbl&gt;</th><th scope=col>&lt;dbl&gt;</th><th scope=col>&lt;chr&gt;</th></tr>\n",
              "</thead>\n",
              "<tbody>\n",
              "\t<tr><td>-122.23</td><td>37.88</td><td>41</td><td> 880</td><td> 129</td><td> 322</td><td> 126</td><td>8.3252</td><td>452600</td><td>NEAR BAY</td></tr>\n",
              "\t<tr><td>-122.22</td><td>37.86</td><td>21</td><td>7099</td><td>1106</td><td>2401</td><td>1138</td><td>8.3014</td><td>358500</td><td>NEAR BAY</td></tr>\n",
              "\t<tr><td>-122.24</td><td>37.85</td><td>52</td><td>1467</td><td> 190</td><td> 496</td><td> 177</td><td>7.2574</td><td>352100</td><td>NEAR BAY</td></tr>\n",
              "\t<tr><td>-122.25</td><td>37.85</td><td>52</td><td>1274</td><td> 235</td><td> 558</td><td> 219</td><td>5.6431</td><td>341300</td><td>NEAR BAY</td></tr>\n",
              "\t<tr><td>-122.25</td><td>37.85</td><td>52</td><td>1627</td><td> 280</td><td> 565</td><td> 259</td><td>3.8462</td><td>342200</td><td>NEAR BAY</td></tr>\n",
              "\t<tr><td>-122.25</td><td>37.85</td><td>52</td><td> 919</td><td> 213</td><td> 413</td><td> 193</td><td>4.0368</td><td>269700</td><td>NEAR BAY</td></tr>\n",
              "</tbody>\n",
              "</table>\n"
            ]
          },
          "metadata": {}
        }
      ]
    },
    {
      "cell_type": "code",
      "source": [
        "summary(housing)"
      ],
      "metadata": {
        "colab": {
          "base_uri": "https://localhost:8080/",
          "height": 433
        },
        "id": "6DgoH3_06Pmn",
        "outputId": "aa417347-eb8c-4595-fc01-1dd8ca970ab7"
      },
      "execution_count": 6,
      "outputs": [
        {
          "output_type": "display_data",
          "data": {
            "text/plain": [
              "   longitude         latitude     housing_median_age  total_rooms   \n",
              " Min.   :-124.3   Min.   :32.54   Min.   : 1.00      Min.   :    2  \n",
              " 1st Qu.:-121.8   1st Qu.:33.93   1st Qu.:18.00      1st Qu.: 1448  \n",
              " Median :-118.5   Median :34.26   Median :29.00      Median : 2127  \n",
              " Mean   :-119.6   Mean   :35.63   Mean   :28.64      Mean   : 2636  \n",
              " 3rd Qu.:-118.0   3rd Qu.:37.71   3rd Qu.:37.00      3rd Qu.: 3148  \n",
              " Max.   :-114.3   Max.   :41.95   Max.   :52.00      Max.   :39320  \n",
              "                                                                    \n",
              " total_bedrooms     population      households     median_income    \n",
              " Min.   :   1.0   Min.   :    3   Min.   :   1.0   Min.   : 0.4999  \n",
              " 1st Qu.: 296.0   1st Qu.:  787   1st Qu.: 280.0   1st Qu.: 2.5634  \n",
              " Median : 435.0   Median : 1166   Median : 409.0   Median : 3.5348  \n",
              " Mean   : 537.9   Mean   : 1425   Mean   : 499.5   Mean   : 3.8707  \n",
              " 3rd Qu.: 647.0   3rd Qu.: 1725   3rd Qu.: 605.0   3rd Qu.: 4.7432  \n",
              " Max.   :6445.0   Max.   :35682   Max.   :6082.0   Max.   :15.0001  \n",
              " NA's   :207                                                        \n",
              " median_house_value ocean_proximity   \n",
              " Min.   : 14999     Length:20640      \n",
              " 1st Qu.:119600     Class :character  \n",
              " Median :179700     Mode  :character  \n",
              " Mean   :206856                       \n",
              " 3rd Qu.:264725                       \n",
              " Max.   :500001                       \n",
              "                                      "
            ]
          },
          "metadata": {}
        }
      ]
    },
    {
      "cell_type": "code",
      "source": [
        "par(mfrow=c(2,5))"
      ],
      "metadata": {
        "id": "tTaH1VQZ6UjH"
      },
      "execution_count": 7,
      "outputs": []
    },
    {
      "cell_type": "code",
      "source": [
        "colnames(housing)"
      ],
      "metadata": {
        "colab": {
          "base_uri": "https://localhost:8080/",
          "height": 52
        },
        "id": "i41qugHR6YrZ",
        "outputId": "99340afb-7a03-46e1-b18e-fd835aadac41"
      },
      "execution_count": 8,
      "outputs": [
        {
          "output_type": "display_data",
          "data": {
            "text/plain": [
              " [1] \"longitude\"          \"latitude\"           \"housing_median_age\"\n",
              " [4] \"total_rooms\"        \"total_bedrooms\"     \"population\"        \n",
              " [7] \"households\"         \"median_income\"      \"median_house_value\"\n",
              "[10] \"ocean_proximity\"   "
            ],
            "text/latex": "\\begin{enumerate*}\n\\item 'longitude'\n\\item 'latitude'\n\\item 'housing\\_median\\_age'\n\\item 'total\\_rooms'\n\\item 'total\\_bedrooms'\n\\item 'population'\n\\item 'households'\n\\item 'median\\_income'\n\\item 'median\\_house\\_value'\n\\item 'ocean\\_proximity'\n\\end{enumerate*}\n",
            "text/markdown": "1. 'longitude'\n2. 'latitude'\n3. 'housing_median_age'\n4. 'total_rooms'\n5. 'total_bedrooms'\n6. 'population'\n7. 'households'\n8. 'median_income'\n9. 'median_house_value'\n10. 'ocean_proximity'\n\n\n",
            "text/html": [
              "<style>\n",
              ".list-inline {list-style: none; margin:0; padding: 0}\n",
              ".list-inline>li {display: inline-block}\n",
              ".list-inline>li:not(:last-child)::after {content: \"\\00b7\"; padding: 0 .5ex}\n",
              "</style>\n",
              "<ol class=list-inline><li>'longitude'</li><li>'latitude'</li><li>'housing_median_age'</li><li>'total_rooms'</li><li>'total_bedrooms'</li><li>'population'</li><li>'households'</li><li>'median_income'</li><li>'median_house_value'</li><li>'ocean_proximity'</li></ol>\n"
            ]
          },
          "metadata": {}
        }
      ]
    },
    {
      "cell_type": "code",
      "source": [
        "install.packages('reshape2')"
      ],
      "metadata": {
        "colab": {
          "base_uri": "https://localhost:8080/"
        },
        "id": "bpd6m20b7Tlc",
        "outputId": "9a09aa8a-a22d-4c29-ece5-5e880b4fbbd7"
      },
      "execution_count": 15,
      "outputs": [
        {
          "output_type": "stream",
          "name": "stderr",
          "text": [
            "Installing package into ‘/usr/local/lib/R/site-library’\n",
            "(as ‘lib’ is unspecified)\n",
            "\n",
            "also installing the dependency ‘plyr’\n",
            "\n",
            "\n"
          ]
        }
      ]
    },
    {
      "cell_type": "code",
      "source": [
        "library(tidyverse)\n",
        "library(reshape2)"
      ],
      "metadata": {
        "colab": {
          "base_uri": "https://localhost:8080/"
        },
        "id": "W3vsA4T57rhW",
        "outputId": "34d64c0b-81cd-4df9-8e94-e4f0b4a4a7df"
      },
      "execution_count": 16,
      "outputs": [
        {
          "output_type": "stream",
          "name": "stderr",
          "text": [
            "\n",
            "Attaching package: ‘reshape2’\n",
            "\n",
            "\n",
            "The following object is masked from ‘package:tidyr’:\n",
            "\n",
            "    smiths\n",
            "\n",
            "\n"
          ]
        }
      ]
    },
    {
      "cell_type": "code",
      "source": [
        "ggplot(data = melt(housing), mapping = aes(x = value)) + geom_histogram(bins = 30) + facet_wrap(~variable, scales = 'free_x')"
      ],
      "metadata": {
        "colab": {
          "base_uri": "https://localhost:8080/",
          "height": 507
        },
        "id": "OYuQCmUU6a5r",
        "outputId": "3d8fa812-32c8-4c47-e1de-7e04a795711c"
      },
      "execution_count": 17,
      "outputs": [
        {
          "output_type": "stream",
          "name": "stderr",
          "text": [
            "Using ocean_proximity as id variables\n",
            "\n",
            "Warning message:\n",
            "“Removed 207 rows containing non-finite values (stat_bin).”\n"
          ]
        },
        {
          "output_type": "display_data",
          "data": {
            "image/png": "[encoded data removed]",
            "text/plain": [
              "plot without title"
            ]
          },
          "metadata": {
            "image/png": {
              "width": 420,
              "height": 420
            }
          }
        }
      ]
    },
    {
      "cell_type": "markdown",
      "source": [
        "tratamento de valores vazios"
      ],
      "metadata": {
        "id": "LaE_Y65H76VF"
      }
    },
    {
      "cell_type": "code",
      "source": [
        "housing$total_bedrooms[is.na(housing$total_bedrooms)] = median(housing$total_bedrooms , na.rm = TRUE)"
      ],
      "metadata": {
        "id": "RqSDlZeB6eKd"
      },
      "execution_count": 18,
      "outputs": []
    },
    {
      "cell_type": "code",
      "source": [
        "housing$mean_bedrooms = housing$total_bedrooms/housing$households\n",
        "housing$mean_rooms = housing$total_rooms/housing$households"
      ],
      "metadata": {
        "id": "372z_xDT8Bb2"
      },
      "execution_count": 19,
      "outputs": []
    },
    {
      "cell_type": "code",
      "source": [
        "drops = c('total_bedrooms', 'total_rooms')\n",
        "\n",
        "housing = housing[ , !(names(housing) %in% drops)]"
      ],
      "metadata": {
        "id": "D_Ej8syJ8L5b"
      },
      "execution_count": 20,
      "outputs": []
    },
    {
      "cell_type": "code",
      "source": [
        "head(housing)"
      ],
      "metadata": {
        "colab": {
          "base_uri": "https://localhost:8080/",
          "height": 306
        },
        "id": "9uqR2vp58OeN",
        "outputId": "2283a9a6-a80b-471e-d8ea-784e2f599604"
      },
      "execution_count": 21,
      "outputs": [
        {
          "output_type": "display_data",
          "data": {
            "text/plain": [
              "  longitude latitude housing_median_age population households median_income\n",
              "1 -122.23   37.88    41                  322        126       8.3252       \n",
              "2 -122.22   37.86    21                 2401       1138       8.3014       \n",
              "3 -122.24   37.85    52                  496        177       7.2574       \n",
              "4 -122.25   37.85    52                  558        219       5.6431       \n",
              "5 -122.25   37.85    52                  565        259       3.8462       \n",
              "6 -122.25   37.85    52                  413        193       4.0368       \n",
              "  median_house_value ocean_proximity mean_bedrooms mean_rooms\n",
              "1 452600             NEAR BAY        1.0238095     6.984127  \n",
              "2 358500             NEAR BAY        0.9718805     6.238137  \n",
              "3 352100             NEAR BAY        1.0734463     8.288136  \n",
              "4 341300             NEAR BAY        1.0730594     5.817352  \n",
              "5 342200             NEAR BAY        1.0810811     6.281853  \n",
              "6 269700             NEAR BAY        1.1036269     4.761658  "
            ],
            "text/latex": "A tibble: 6 × 10\n\\begin{tabular}{llllllllll}\n longitude & latitude & housing\\_median\\_age & population & households & median\\_income & median\\_house\\_value & ocean\\_proximity & mean\\_bedrooms & mean\\_rooms\\\\\n <dbl> & <dbl> & <dbl> & <dbl> & <dbl> & <dbl> & <dbl> & <chr> & <dbl> & <dbl>\\\\\n\\hline\n\t -122.23 & 37.88 & 41 &  322 &  126 & 8.3252 & 452600 & NEAR BAY & 1.0238095 & 6.984127\\\\\n\t -122.22 & 37.86 & 21 & 2401 & 1138 & 8.3014 & 358500 & NEAR BAY & 0.9718805 & 6.238137\\\\\n\t -122.24 & 37.85 & 52 &  496 &  177 & 7.2574 & 352100 & NEAR BAY & 1.0734463 & 8.288136\\\\\n\t -122.25 & 37.85 & 52 &  558 &  219 & 5.6431 & 341300 & NEAR BAY & 1.0730594 & 5.817352\\\\\n\t -122.25 & 37.85 & 52 &  565 &  259 & 3.8462 & 342200 & NEAR BAY & 1.0810811 & 6.281853\\\\\n\t -122.25 & 37.85 & 52 &  413 &  193 & 4.0368 & 269700 & NEAR BAY & 1.1036269 & 4.761658\\\\\n\\end{tabular}\n",
            "text/markdown": "\nA tibble: 6 × 10\n\n| longitude &lt;dbl&gt; | latitude &lt;dbl&gt; | housing_median_age &lt;dbl&gt; | population &lt;dbl&gt; | households &lt;dbl&gt; | median_income &lt;dbl&gt; | median_house_value &lt;dbl&gt; | ocean_proximity &lt;chr&gt; | mean_bedrooms &lt;dbl&gt; | mean_rooms &lt;dbl&gt; |\n|---|---|---|---|---|---|---|---|---|---|\n| -122.23 | 37.88 | 41 |  322 |  126 | 8.3252 | 452600 | NEAR BAY | 1.0238095 | 6.984127 |\n| -122.22 | 37.86 | 21 | 2401 | 1138 | 8.3014 | 358500 | NEAR BAY | 0.9718805 | 6.238137 |\n| -122.24 | 37.85 | 52 |  496 |  177 | 7.2574 | 352100 | NEAR BAY | 1.0734463 | 8.288136 |\n| -122.25 | 37.85 | 52 |  558 |  219 | 5.6431 | 341300 | NEAR BAY | 1.0730594 | 5.817352 |\n| -122.25 | 37.85 | 52 |  565 |  259 | 3.8462 | 342200 | NEAR BAY | 1.0810811 | 6.281853 |\n| -122.25 | 37.85 | 52 |  413 |  193 | 4.0368 | 269700 | NEAR BAY | 1.1036269 | 4.761658 |\n\n",
            "text/html": [
              "<table class=\"dataframe\">\n",
              "<caption>A tibble: 6 × 10</caption>\n",
              "<thead>\n",
              "\t<tr><th scope=col>longitude</th><th scope=col>latitude</th><th scope=col>housing_median_age</th><th scope=col>population</th><th scope=col>households</th><th scope=col>median_income</th><th scope=col>median_house_value</th><th scope=col>ocean_proximity</th><th scope=col>mean_bedrooms</th><th scope=col>mean_rooms</th></tr>\n",
              "\t<tr><th scope=col>&lt;dbl&gt;</th><th scope=col>&lt;dbl&gt;</th><th scope=col>&lt;dbl&gt;</th><th scope=col>&lt;dbl&gt;</th><th scope=col>&lt;dbl&gt;</th><th scope=col>&lt;dbl&gt;</th><th scope=col>&lt;dbl&gt;</th><th scope=col>&lt;chr&gt;</th><th scope=col>&lt;dbl&gt;</th><th scope=col>&lt;dbl&gt;</th></tr>\n",
              "</thead>\n",
              "<tbody>\n",
              "\t<tr><td>-122.23</td><td>37.88</td><td>41</td><td> 322</td><td> 126</td><td>8.3252</td><td>452600</td><td>NEAR BAY</td><td>1.0238095</td><td>6.984127</td></tr>\n",
              "\t<tr><td>-122.22</td><td>37.86</td><td>21</td><td>2401</td><td>1138</td><td>8.3014</td><td>358500</td><td>NEAR BAY</td><td>0.9718805</td><td>6.238137</td></tr>\n",
              "\t<tr><td>-122.24</td><td>37.85</td><td>52</td><td> 496</td><td> 177</td><td>7.2574</td><td>352100</td><td>NEAR BAY</td><td>1.0734463</td><td>8.288136</td></tr>\n",
              "\t<tr><td>-122.25</td><td>37.85</td><td>52</td><td> 558</td><td> 219</td><td>5.6431</td><td>341300</td><td>NEAR BAY</td><td>1.0730594</td><td>5.817352</td></tr>\n",
              "\t<tr><td>-122.25</td><td>37.85</td><td>52</td><td> 565</td><td> 259</td><td>3.8462</td><td>342200</td><td>NEAR BAY</td><td>1.0810811</td><td>6.281853</td></tr>\n",
              "\t<tr><td>-122.25</td><td>37.85</td><td>52</td><td> 413</td><td> 193</td><td>4.0368</td><td>269700</td><td>NEAR BAY</td><td>1.1036269</td><td>4.761658</td></tr>\n",
              "</tbody>\n",
              "</table>\n"
            ]
          },
          "metadata": {}
        }
      ]
    },
    {
      "cell_type": "markdown",
      "source": [
        "passando categoricos para boleanos"
      ],
      "metadata": {
        "id": "OU-WjYZW8UCe"
      }
    },
    {
      "cell_type": "code",
      "source": [
        "categories = unique(housing$ocean_proximity)\n",
        "#split the categories off\n",
        "cat_housing = data.frame(ocean_proximity = housing$ocean_proximity)"
      ],
      "metadata": {
        "id": "xMzw3MI88REU"
      },
      "execution_count": 22,
      "outputs": []
    },
    {
      "cell_type": "code",
      "source": [
        "for(cat in categories){\n",
        "    cat_housing[,cat] = rep(0, times= nrow(cat_housing))\n",
        "}\n",
        "head(cat_housing) #see the new columns on the right"
      ],
      "metadata": {
        "colab": {
          "base_uri": "https://localhost:8080/",
          "height": 286
        },
        "id": "jrtrXbUC8bDQ",
        "outputId": "a98cabd8-9b42-4b97-dd04-d7281eae05b4"
      },
      "execution_count": 23,
      "outputs": [
        {
          "output_type": "display_data",
          "data": {
            "text/plain": [
              "  ocean_proximity NEAR BAY <1H OCEAN INLAND NEAR OCEAN ISLAND\n",
              "1 NEAR BAY        0        0         0      0          0     \n",
              "2 NEAR BAY        0        0         0      0          0     \n",
              "3 NEAR BAY        0        0         0      0          0     \n",
              "4 NEAR BAY        0        0         0      0          0     \n",
              "5 NEAR BAY        0        0         0      0          0     \n",
              "6 NEAR BAY        0        0         0      0          0     "
            ],
            "text/latex": "A data.frame: 6 × 6\n\\begin{tabular}{r|llllll}\n  & ocean\\_proximity & NEAR BAY & <1H OCEAN & INLAND & NEAR OCEAN & ISLAND\\\\\n  & <chr> & <dbl> & <dbl> & <dbl> & <dbl> & <dbl>\\\\\n\\hline\n\t1 & NEAR BAY & 0 & 0 & 0 & 0 & 0\\\\\n\t2 & NEAR BAY & 0 & 0 & 0 & 0 & 0\\\\\n\t3 & NEAR BAY & 0 & 0 & 0 & 0 & 0\\\\\n\t4 & NEAR BAY & 0 & 0 & 0 & 0 & 0\\\\\n\t5 & NEAR BAY & 0 & 0 & 0 & 0 & 0\\\\\n\t6 & NEAR BAY & 0 & 0 & 0 & 0 & 0\\\\\n\\end{tabular}\n",
            "text/markdown": "\nA data.frame: 6 × 6\n\n| <!--/--> | ocean_proximity &lt;chr&gt; | NEAR BAY &lt;dbl&gt; | &lt;1H OCEAN &lt;dbl&gt; | INLAND &lt;dbl&gt; | NEAR OCEAN &lt;dbl&gt; | ISLAND &lt;dbl&gt; |\n|---|---|---|---|---|---|---|\n| 1 | NEAR BAY | 0 | 0 | 0 | 0 | 0 |\n| 2 | NEAR BAY | 0 | 0 | 0 | 0 | 0 |\n| 3 | NEAR BAY | 0 | 0 | 0 | 0 | 0 |\n| 4 | NEAR BAY | 0 | 0 | 0 | 0 | 0 |\n| 5 | NEAR BAY | 0 | 0 | 0 | 0 | 0 |\n| 6 | NEAR BAY | 0 | 0 | 0 | 0 | 0 |\n\n",
            "text/html": [
              "<table class=\"dataframe\">\n",
              "<caption>A data.frame: 6 × 6</caption>\n",
              "<thead>\n",
              "\t<tr><th></th><th scope=col>ocean_proximity</th><th scope=col>NEAR BAY</th><th scope=col>&lt;1H OCEAN</th><th scope=col>INLAND</th><th scope=col>NEAR OCEAN</th><th scope=col>ISLAND</th></tr>\n",
              "\t<tr><th></th><th scope=col>&lt;chr&gt;</th><th scope=col>&lt;dbl&gt;</th><th scope=col>&lt;dbl&gt;</th><th scope=col>&lt;dbl&gt;</th><th scope=col>&lt;dbl&gt;</th><th scope=col>&lt;dbl&gt;</th></tr>\n",
              "</thead>\n",
              "<tbody>\n",
              "\t<tr><th scope=row>1</th><td>NEAR BAY</td><td>0</td><td>0</td><td>0</td><td>0</td><td>0</td></tr>\n",
              "\t<tr><th scope=row>2</th><td>NEAR BAY</td><td>0</td><td>0</td><td>0</td><td>0</td><td>0</td></tr>\n",
              "\t<tr><th scope=row>3</th><td>NEAR BAY</td><td>0</td><td>0</td><td>0</td><td>0</td><td>0</td></tr>\n",
              "\t<tr><th scope=row>4</th><td>NEAR BAY</td><td>0</td><td>0</td><td>0</td><td>0</td><td>0</td></tr>\n",
              "\t<tr><th scope=row>5</th><td>NEAR BAY</td><td>0</td><td>0</td><td>0</td><td>0</td><td>0</td></tr>\n",
              "\t<tr><th scope=row>6</th><td>NEAR BAY</td><td>0</td><td>0</td><td>0</td><td>0</td><td>0</td></tr>\n",
              "</tbody>\n",
              "</table>\n"
            ]
          },
          "metadata": {}
        }
      ]
    },
    {
      "cell_type": "code",
      "source": [
        "for(i in 1:length(cat_housing$ocean_proximity)){\n",
        "    cat = as.character(cat_housing$ocean_proximity[i])\n",
        "    cat_housing[,cat][i] = 1\n",
        "}\n",
        "\n",
        "head(cat_housing)"
      ],
      "metadata": {
        "colab": {
          "base_uri": "https://localhost:8080/",
          "height": 286
        },
        "id": "odKbC2nA8dby",
        "outputId": "bc0b823a-dd78-431a-9dba-604021d3243b"
      },
      "execution_count": 24,
      "outputs": [
        {
          "output_type": "display_data",
          "data": {
            "text/plain": [
              "  ocean_proximity NEAR BAY <1H OCEAN INLAND NEAR OCEAN ISLAND\n",
              "1 NEAR BAY        1        0         0      0          0     \n",
              "2 NEAR BAY        1        0         0      0          0     \n",
              "3 NEAR BAY        1        0         0      0          0     \n",
              "4 NEAR BAY        1        0         0      0          0     \n",
              "5 NEAR BAY        1        0         0      0          0     \n",
              "6 NEAR BAY        1        0         0      0          0     "
            ],
            "text/latex": "A data.frame: 6 × 6\n\\begin{tabular}{r|llllll}\n  & ocean\\_proximity & NEAR BAY & <1H OCEAN & INLAND & NEAR OCEAN & ISLAND\\\\\n  & <chr> & <dbl> & <dbl> & <dbl> & <dbl> & <dbl>\\\\\n\\hline\n\t1 & NEAR BAY & 1 & 0 & 0 & 0 & 0\\\\\n\t2 & NEAR BAY & 1 & 0 & 0 & 0 & 0\\\\\n\t3 & NEAR BAY & 1 & 0 & 0 & 0 & 0\\\\\n\t4 & NEAR BAY & 1 & 0 & 0 & 0 & 0\\\\\n\t5 & NEAR BAY & 1 & 0 & 0 & 0 & 0\\\\\n\t6 & NEAR BAY & 1 & 0 & 0 & 0 & 0\\\\\n\\end{tabular}\n",
            "text/markdown": "\nA data.frame: 6 × 6\n\n| <!--/--> | ocean_proximity &lt;chr&gt; | NEAR BAY &lt;dbl&gt; | &lt;1H OCEAN &lt;dbl&gt; | INLAND &lt;dbl&gt; | NEAR OCEAN &lt;dbl&gt; | ISLAND &lt;dbl&gt; |\n|---|---|---|---|---|---|---|\n| 1 | NEAR BAY | 1 | 0 | 0 | 0 | 0 |\n| 2 | NEAR BAY | 1 | 0 | 0 | 0 | 0 |\n| 3 | NEAR BAY | 1 | 0 | 0 | 0 | 0 |\n| 4 | NEAR BAY | 1 | 0 | 0 | 0 | 0 |\n| 5 | NEAR BAY | 1 | 0 | 0 | 0 | 0 |\n| 6 | NEAR BAY | 1 | 0 | 0 | 0 | 0 |\n\n",
            "text/html": [
              "<table class=\"dataframe\">\n",
              "<caption>A data.frame: 6 × 6</caption>\n",
              "<thead>\n",
              "\t<tr><th></th><th scope=col>ocean_proximity</th><th scope=col>NEAR BAY</th><th scope=col>&lt;1H OCEAN</th><th scope=col>INLAND</th><th scope=col>NEAR OCEAN</th><th scope=col>ISLAND</th></tr>\n",
              "\t<tr><th></th><th scope=col>&lt;chr&gt;</th><th scope=col>&lt;dbl&gt;</th><th scope=col>&lt;dbl&gt;</th><th scope=col>&lt;dbl&gt;</th><th scope=col>&lt;dbl&gt;</th><th scope=col>&lt;dbl&gt;</th></tr>\n",
              "</thead>\n",
              "<tbody>\n",
              "\t<tr><th scope=row>1</th><td>NEAR BAY</td><td>1</td><td>0</td><td>0</td><td>0</td><td>0</td></tr>\n",
              "\t<tr><th scope=row>2</th><td>NEAR BAY</td><td>1</td><td>0</td><td>0</td><td>0</td><td>0</td></tr>\n",
              "\t<tr><th scope=row>3</th><td>NEAR BAY</td><td>1</td><td>0</td><td>0</td><td>0</td><td>0</td></tr>\n",
              "\t<tr><th scope=row>4</th><td>NEAR BAY</td><td>1</td><td>0</td><td>0</td><td>0</td><td>0</td></tr>\n",
              "\t<tr><th scope=row>5</th><td>NEAR BAY</td><td>1</td><td>0</td><td>0</td><td>0</td><td>0</td></tr>\n",
              "\t<tr><th scope=row>6</th><td>NEAR BAY</td><td>1</td><td>0</td><td>0</td><td>0</td><td>0</td></tr>\n",
              "</tbody>\n",
              "</table>\n"
            ]
          },
          "metadata": {}
        }
      ]
    },
    {
      "cell_type": "code",
      "source": [
        "cat_columns = names(cat_housing)\n",
        "keep_columns = cat_columns[cat_columns != 'ocean_proximity']\n",
        "cat_housing = select(cat_housing,one_of(keep_columns))\n",
        "\n",
        "tail(cat_housing)"
      ],
      "metadata": {
        "colab": {
          "base_uri": "https://localhost:8080/",
          "height": 286
        },
        "id": "I9xvjajF8i-O",
        "outputId": "90b82499-1236-4779-d72e-ab8a9fa94817"
      },
      "execution_count": 25,
      "outputs": [
        {
          "output_type": "display_data",
          "data": {
            "text/plain": [
              "      NEAR BAY <1H OCEAN INLAND NEAR OCEAN ISLAND\n",
              "20635 0        0         1      0          0     \n",
              "20636 0        0         1      0          0     \n",
              "20637 0        0         1      0          0     \n",
              "20638 0        0         1      0          0     \n",
              "20639 0        0         1      0          0     \n",
              "20640 0        0         1      0          0     "
            ],
            "text/latex": "A data.frame: 6 × 5\n\\begin{tabular}{r|lllll}\n  & NEAR BAY & <1H OCEAN & INLAND & NEAR OCEAN & ISLAND\\\\\n  & <dbl> & <dbl> & <dbl> & <dbl> & <dbl>\\\\\n\\hline\n\t20635 & 0 & 0 & 1 & 0 & 0\\\\\n\t20636 & 0 & 0 & 1 & 0 & 0\\\\\n\t20637 & 0 & 0 & 1 & 0 & 0\\\\\n\t20638 & 0 & 0 & 1 & 0 & 0\\\\\n\t20639 & 0 & 0 & 1 & 0 & 0\\\\\n\t20640 & 0 & 0 & 1 & 0 & 0\\\\\n\\end{tabular}\n",
            "text/markdown": "\nA data.frame: 6 × 5\n\n| <!--/--> | NEAR BAY &lt;dbl&gt; | &lt;1H OCEAN &lt;dbl&gt; | INLAND &lt;dbl&gt; | NEAR OCEAN &lt;dbl&gt; | ISLAND &lt;dbl&gt; |\n|---|---|---|---|---|---|\n| 20635 | 0 | 0 | 1 | 0 | 0 |\n| 20636 | 0 | 0 | 1 | 0 | 0 |\n| 20637 | 0 | 0 | 1 | 0 | 0 |\n| 20638 | 0 | 0 | 1 | 0 | 0 |\n| 20639 | 0 | 0 | 1 | 0 | 0 |\n| 20640 | 0 | 0 | 1 | 0 | 0 |\n\n",
            "text/html": [
              "<table class=\"dataframe\">\n",
              "<caption>A data.frame: 6 × 5</caption>\n",
              "<thead>\n",
              "\t<tr><th></th><th scope=col>NEAR BAY</th><th scope=col>&lt;1H OCEAN</th><th scope=col>INLAND</th><th scope=col>NEAR OCEAN</th><th scope=col>ISLAND</th></tr>\n",
              "\t<tr><th></th><th scope=col>&lt;dbl&gt;</th><th scope=col>&lt;dbl&gt;</th><th scope=col>&lt;dbl&gt;</th><th scope=col>&lt;dbl&gt;</th><th scope=col>&lt;dbl&gt;</th></tr>\n",
              "</thead>\n",
              "<tbody>\n",
              "\t<tr><th scope=row>20635</th><td>0</td><td>0</td><td>1</td><td>0</td><td>0</td></tr>\n",
              "\t<tr><th scope=row>20636</th><td>0</td><td>0</td><td>1</td><td>0</td><td>0</td></tr>\n",
              "\t<tr><th scope=row>20637</th><td>0</td><td>0</td><td>1</td><td>0</td><td>0</td></tr>\n",
              "\t<tr><th scope=row>20638</th><td>0</td><td>0</td><td>1</td><td>0</td><td>0</td></tr>\n",
              "\t<tr><th scope=row>20639</th><td>0</td><td>0</td><td>1</td><td>0</td><td>0</td></tr>\n",
              "\t<tr><th scope=row>20640</th><td>0</td><td>0</td><td>1</td><td>0</td><td>0</td></tr>\n",
              "</tbody>\n",
              "</table>\n"
            ]
          },
          "metadata": {}
        }
      ]
    },
    {
      "cell_type": "code",
      "source": [
        "colnames(housing)"
      ],
      "metadata": {
        "colab": {
          "base_uri": "https://localhost:8080/",
          "height": 52
        },
        "id": "5LC0Ko3y8mBS",
        "outputId": "0f8d9712-5388-4684-ca89-aab61e08690e"
      },
      "execution_count": 26,
      "outputs": [
        {
          "output_type": "display_data",
          "data": {
            "text/plain": [
              " [1] \"longitude\"          \"latitude\"           \"housing_median_age\"\n",
              " [4] \"population\"         \"households\"         \"median_income\"     \n",
              " [7] \"median_house_value\" \"ocean_proximity\"    \"mean_bedrooms\"     \n",
              "[10] \"mean_rooms\"        "
            ],
            "text/latex": "\\begin{enumerate*}\n\\item 'longitude'\n\\item 'latitude'\n\\item 'housing\\_median\\_age'\n\\item 'population'\n\\item 'households'\n\\item 'median\\_income'\n\\item 'median\\_house\\_value'\n\\item 'ocean\\_proximity'\n\\item 'mean\\_bedrooms'\n\\item 'mean\\_rooms'\n\\end{enumerate*}\n",
            "text/markdown": "1. 'longitude'\n2. 'latitude'\n3. 'housing_median_age'\n4. 'population'\n5. 'households'\n6. 'median_income'\n7. 'median_house_value'\n8. 'ocean_proximity'\n9. 'mean_bedrooms'\n10. 'mean_rooms'\n\n\n",
            "text/html": [
              "<style>\n",
              ".list-inline {list-style: none; margin:0; padding: 0}\n",
              ".list-inline>li {display: inline-block}\n",
              ".list-inline>li:not(:last-child)::after {content: \"\\00b7\"; padding: 0 .5ex}\n",
              "</style>\n",
              "<ol class=list-inline><li>'longitude'</li><li>'latitude'</li><li>'housing_median_age'</li><li>'population'</li><li>'households'</li><li>'median_income'</li><li>'median_house_value'</li><li>'ocean_proximity'</li><li>'mean_bedrooms'</li><li>'mean_rooms'</li></ol>\n"
            ]
          },
          "metadata": {}
        }
      ]
    },
    {
      "cell_type": "code",
      "source": [
        "drops = c('ocean_proximity','median_house_value')\n",
        "housing_num =  housing[ , !(names(housing) %in% drops)]"
      ],
      "metadata": {
        "id": "-G4aoz4J8pMH"
      },
      "execution_count": 27,
      "outputs": []
    },
    {
      "cell_type": "code",
      "source": [
        "head(housing_num)"
      ],
      "metadata": {
        "colab": {
          "base_uri": "https://localhost:8080/",
          "height": 286
        },
        "id": "stCsnAtr8rrX",
        "outputId": "378db90f-48d6-42c1-b72c-def5deac1819"
      },
      "execution_count": 28,
      "outputs": [
        {
          "output_type": "display_data",
          "data": {
            "text/plain": [
              "  longitude latitude housing_median_age population households median_income\n",
              "1 -122.23   37.88    41                  322        126       8.3252       \n",
              "2 -122.22   37.86    21                 2401       1138       8.3014       \n",
              "3 -122.24   37.85    52                  496        177       7.2574       \n",
              "4 -122.25   37.85    52                  558        219       5.6431       \n",
              "5 -122.25   37.85    52                  565        259       3.8462       \n",
              "6 -122.25   37.85    52                  413        193       4.0368       \n",
              "  mean_bedrooms mean_rooms\n",
              "1 1.0238095     6.984127  \n",
              "2 0.9718805     6.238137  \n",
              "3 1.0734463     8.288136  \n",
              "4 1.0730594     5.817352  \n",
              "5 1.0810811     6.281853  \n",
              "6 1.1036269     4.761658  "
            ],
            "text/latex": "A tibble: 6 × 8\n\\begin{tabular}{llllllll}\n longitude & latitude & housing\\_median\\_age & population & households & median\\_income & mean\\_bedrooms & mean\\_rooms\\\\\n <dbl> & <dbl> & <dbl> & <dbl> & <dbl> & <dbl> & <dbl> & <dbl>\\\\\n\\hline\n\t -122.23 & 37.88 & 41 &  322 &  126 & 8.3252 & 1.0238095 & 6.984127\\\\\n\t -122.22 & 37.86 & 21 & 2401 & 1138 & 8.3014 & 0.9718805 & 6.238137\\\\\n\t -122.24 & 37.85 & 52 &  496 &  177 & 7.2574 & 1.0734463 & 8.288136\\\\\n\t -122.25 & 37.85 & 52 &  558 &  219 & 5.6431 & 1.0730594 & 5.817352\\\\\n\t -122.25 & 37.85 & 52 &  565 &  259 & 3.8462 & 1.0810811 & 6.281853\\\\\n\t -122.25 & 37.85 & 52 &  413 &  193 & 4.0368 & 1.1036269 & 4.761658\\\\\n\\end{tabular}\n",
            "text/markdown": "\nA tibble: 6 × 8\n\n| longitude &lt;dbl&gt; | latitude &lt;dbl&gt; | housing_median_age &lt;dbl&gt; | population &lt;dbl&gt; | households &lt;dbl&gt; | median_income &lt;dbl&gt; | mean_bedrooms &lt;dbl&gt; | mean_rooms &lt;dbl&gt; |\n|---|---|---|---|---|---|---|---|\n| -122.23 | 37.88 | 41 |  322 |  126 | 8.3252 | 1.0238095 | 6.984127 |\n| -122.22 | 37.86 | 21 | 2401 | 1138 | 8.3014 | 0.9718805 | 6.238137 |\n| -122.24 | 37.85 | 52 |  496 |  177 | 7.2574 | 1.0734463 | 8.288136 |\n| -122.25 | 37.85 | 52 |  558 |  219 | 5.6431 | 1.0730594 | 5.817352 |\n| -122.25 | 37.85 | 52 |  565 |  259 | 3.8462 | 1.0810811 | 6.281853 |\n| -122.25 | 37.85 | 52 |  413 |  193 | 4.0368 | 1.1036269 | 4.761658 |\n\n",
            "text/html": [
              "<table class=\"dataframe\">\n",
              "<caption>A tibble: 6 × 8</caption>\n",
              "<thead>\n",
              "\t<tr><th scope=col>longitude</th><th scope=col>latitude</th><th scope=col>housing_median_age</th><th scope=col>population</th><th scope=col>households</th><th scope=col>median_income</th><th scope=col>mean_bedrooms</th><th scope=col>mean_rooms</th></tr>\n",
              "\t<tr><th scope=col>&lt;dbl&gt;</th><th scope=col>&lt;dbl&gt;</th><th scope=col>&lt;dbl&gt;</th><th scope=col>&lt;dbl&gt;</th><th scope=col>&lt;dbl&gt;</th><th scope=col>&lt;dbl&gt;</th><th scope=col>&lt;dbl&gt;</th><th scope=col>&lt;dbl&gt;</th></tr>\n",
              "</thead>\n",
              "<tbody>\n",
              "\t<tr><td>-122.23</td><td>37.88</td><td>41</td><td> 322</td><td> 126</td><td>8.3252</td><td>1.0238095</td><td>6.984127</td></tr>\n",
              "\t<tr><td>-122.22</td><td>37.86</td><td>21</td><td>2401</td><td>1138</td><td>8.3014</td><td>0.9718805</td><td>6.238137</td></tr>\n",
              "\t<tr><td>-122.24</td><td>37.85</td><td>52</td><td> 496</td><td> 177</td><td>7.2574</td><td>1.0734463</td><td>8.288136</td></tr>\n",
              "\t<tr><td>-122.25</td><td>37.85</td><td>52</td><td> 558</td><td> 219</td><td>5.6431</td><td>1.0730594</td><td>5.817352</td></tr>\n",
              "\t<tr><td>-122.25</td><td>37.85</td><td>52</td><td> 565</td><td> 259</td><td>3.8462</td><td>1.0810811</td><td>6.281853</td></tr>\n",
              "\t<tr><td>-122.25</td><td>37.85</td><td>52</td><td> 413</td><td> 193</td><td>4.0368</td><td>1.1036269</td><td>4.761658</td></tr>\n",
              "</tbody>\n",
              "</table>\n"
            ]
          },
          "metadata": {}
        }
      ]
    },
    {
      "cell_type": "code",
      "source": [
        "scaled_housing_num = scale(housing_num)"
      ],
      "metadata": {
        "id": "_Yq-znJJ8t4M"
      },
      "execution_count": 29,
      "outputs": []
    },
    {
      "cell_type": "code",
      "source": [
        "head(scaled_housing_num)"
      ],
      "metadata": {
        "colab": {
          "base_uri": "https://localhost:8080/",
          "height": 255
        },
        "id": "d9EBcigh8w3F",
        "outputId": "f71e4dc4-e6b3-4c96-a39a-d28402f3bd64"
      },
      "execution_count": 30,
      "outputs": [
        {
          "output_type": "display_data",
          "data": {
            "text/plain": [
              "     longitude latitude housing_median_age population households median_income\n",
              "[1,] -1.327803 1.052523  0.9821189         -0.9744050 -0.9770092  2.34470896  \n",
              "[2,] -1.322812 1.043159 -0.6070042          0.8614180  1.6699206  2.33218146  \n",
              "[3,] -1.332794 1.038478  1.8561366         -0.8207575 -0.8436165  1.78265622  \n",
              "[4,] -1.337785 1.038478  1.8561366         -0.7660095 -0.7337637  0.93294491  \n",
              "[5,] -1.337785 1.038478  1.8561366         -0.7598283 -0.6291419 -0.01288068  \n",
              "[6,] -1.337785 1.038478  1.8561366         -0.8940491 -0.8017678  0.08744452  \n",
              "     mean_bedrooms mean_rooms\n",
              "[1,] -0.148510661   0.6285442\n",
              "[2,] -0.248535936   0.3270334\n",
              "[3,] -0.052900657   1.1555925\n",
              "[4,] -0.053646030   0.1569623\n",
              "[5,] -0.038194658   0.3447024\n",
              "[6,]  0.005232996  -0.2697231"
            ],
            "text/latex": "A matrix: 6 × 8 of type dbl\n\\begin{tabular}{llllllll}\n longitude & latitude & housing\\_median\\_age & population & households & median\\_income & mean\\_bedrooms & mean\\_rooms\\\\\n\\hline\n\t -1.327803 & 1.052523 &  0.9821189 & -0.9744050 & -0.9770092 &  2.34470896 & -0.148510661 &  0.6285442\\\\\n\t -1.322812 & 1.043159 & -0.6070042 &  0.8614180 &  1.6699206 &  2.33218146 & -0.248535936 &  0.3270334\\\\\n\t -1.332794 & 1.038478 &  1.8561366 & -0.8207575 & -0.8436165 &  1.78265622 & -0.052900657 &  1.1555925\\\\\n\t -1.337785 & 1.038478 &  1.8561366 & -0.7660095 & -0.7337637 &  0.93294491 & -0.053646030 &  0.1569623\\\\\n\t -1.337785 & 1.038478 &  1.8561366 & -0.7598283 & -0.6291419 & -0.01288068 & -0.038194658 &  0.3447024\\\\\n\t -1.337785 & 1.038478 &  1.8561366 & -0.8940491 & -0.8017678 &  0.08744452 &  0.005232996 & -0.2697231\\\\\n\\end{tabular}\n",
            "text/markdown": "\nA matrix: 6 × 8 of type dbl\n\n| longitude | latitude | housing_median_age | population | households | median_income | mean_bedrooms | mean_rooms |\n|---|---|---|---|---|---|---|---|\n| -1.327803 | 1.052523 |  0.9821189 | -0.9744050 | -0.9770092 |  2.34470896 | -0.148510661 |  0.6285442 |\n| -1.322812 | 1.043159 | -0.6070042 |  0.8614180 |  1.6699206 |  2.33218146 | -0.248535936 |  0.3270334 |\n| -1.332794 | 1.038478 |  1.8561366 | -0.8207575 | -0.8436165 |  1.78265622 | -0.052900657 |  1.1555925 |\n| -1.337785 | 1.038478 |  1.8561366 | -0.7660095 | -0.7337637 |  0.93294491 | -0.053646030 |  0.1569623 |\n| -1.337785 | 1.038478 |  1.8561366 | -0.7598283 | -0.6291419 | -0.01288068 | -0.038194658 |  0.3447024 |\n| -1.337785 | 1.038478 |  1.8561366 | -0.8940491 | -0.8017678 |  0.08744452 |  0.005232996 | -0.2697231 |\n\n",
            "text/html": [
              "<table class=\"dataframe\">\n",
              "<caption>A matrix: 6 × 8 of type dbl</caption>\n",
              "<thead>\n",
              "\t<tr><th scope=col>longitude</th><th scope=col>latitude</th><th scope=col>housing_median_age</th><th scope=col>population</th><th scope=col>households</th><th scope=col>median_income</th><th scope=col>mean_bedrooms</th><th scope=col>mean_rooms</th></tr>\n",
              "</thead>\n",
              "<tbody>\n",
              "\t<tr><td>-1.327803</td><td>1.052523</td><td> 0.9821189</td><td>-0.9744050</td><td>-0.9770092</td><td> 2.34470896</td><td>-0.148510661</td><td> 0.6285442</td></tr>\n",
              "\t<tr><td>-1.322812</td><td>1.043159</td><td>-0.6070042</td><td> 0.8614180</td><td> 1.6699206</td><td> 2.33218146</td><td>-0.248535936</td><td> 0.3270334</td></tr>\n",
              "\t<tr><td>-1.332794</td><td>1.038478</td><td> 1.8561366</td><td>-0.8207575</td><td>-0.8436165</td><td> 1.78265622</td><td>-0.052900657</td><td> 1.1555925</td></tr>\n",
              "\t<tr><td>-1.337785</td><td>1.038478</td><td> 1.8561366</td><td>-0.7660095</td><td>-0.7337637</td><td> 0.93294491</td><td>-0.053646030</td><td> 0.1569623</td></tr>\n",
              "\t<tr><td>-1.337785</td><td>1.038478</td><td> 1.8561366</td><td>-0.7598283</td><td>-0.6291419</td><td>-0.01288068</td><td>-0.038194658</td><td> 0.3447024</td></tr>\n",
              "\t<tr><td>-1.337785</td><td>1.038478</td><td> 1.8561366</td><td>-0.8940491</td><td>-0.8017678</td><td> 0.08744452</td><td> 0.005232996</td><td>-0.2697231</td></tr>\n",
              "</tbody>\n",
              "</table>\n"
            ]
          },
          "metadata": {}
        }
      ]
    },
    {
      "cell_type": "markdown",
      "source": [
        "\n",
        "Mesclar os dataframes numéricos e categóricos alterados"
      ],
      "metadata": {
        "id": "3rc9WSYF87nX"
      }
    },
    {
      "cell_type": "code",
      "source": [
        "cleaned_housing = cbind(cat_housing, scaled_housing_num, median_house_value=housing$median_house_value)"
      ],
      "metadata": {
        "id": "13LV-UFo8yxG"
      },
      "execution_count": 31,
      "outputs": []
    },
    {
      "cell_type": "code",
      "source": [
        "head(cleaned_housing)"
      ],
      "metadata": {
        "colab": {
          "base_uri": "https://localhost:8080/",
          "height": 323
        },
        "id": "YvkoitDc8-m7",
        "outputId": "810fe33c-8ea2-4343-f9f8-3787291211fc"
      },
      "execution_count": 32,
      "outputs": [
        {
          "output_type": "display_data",
          "data": {
            "text/plain": [
              "  NEAR BAY <1H OCEAN INLAND NEAR OCEAN ISLAND longitude latitude\n",
              "1 1        0         0      0          0      -1.327803 1.052523\n",
              "2 1        0         0      0          0      -1.322812 1.043159\n",
              "3 1        0         0      0          0      -1.332794 1.038478\n",
              "4 1        0         0      0          0      -1.337785 1.038478\n",
              "5 1        0         0      0          0      -1.337785 1.038478\n",
              "6 1        0         0      0          0      -1.337785 1.038478\n",
              "  housing_median_age population households median_income mean_bedrooms\n",
              "1  0.9821189         -0.9744050 -0.9770092  2.34470896   -0.148510661 \n",
              "2 -0.6070042          0.8614180  1.6699206  2.33218146   -0.248535936 \n",
              "3  1.8561366         -0.8207575 -0.8436165  1.78265622   -0.052900657 \n",
              "4  1.8561366         -0.7660095 -0.7337637  0.93294491   -0.053646030 \n",
              "5  1.8561366         -0.7598283 -0.6291419 -0.01288068   -0.038194658 \n",
              "6  1.8561366         -0.8940491 -0.8017678  0.08744452    0.005232996 \n",
              "  mean_rooms median_house_value\n",
              "1  0.6285442 452600            \n",
              "2  0.3270334 358500            \n",
              "3  1.1555925 352100            \n",
              "4  0.1569623 341300            \n",
              "5  0.3447024 342200            \n",
              "6 -0.2697231 269700            "
            ],
            "text/latex": "A data.frame: 6 × 14\n\\begin{tabular}{r|llllllllllllll}\n  & NEAR BAY & <1H OCEAN & INLAND & NEAR OCEAN & ISLAND & longitude & latitude & housing\\_median\\_age & population & households & median\\_income & mean\\_bedrooms & mean\\_rooms & median\\_house\\_value\\\\\n  & <dbl> & <dbl> & <dbl> & <dbl> & <dbl> & <dbl> & <dbl> & <dbl> & <dbl> & <dbl> & <dbl> & <dbl> & <dbl> & <dbl>\\\\\n\\hline\n\t1 & 1 & 0 & 0 & 0 & 0 & -1.327803 & 1.052523 &  0.9821189 & -0.9744050 & -0.9770092 &  2.34470896 & -0.148510661 &  0.6285442 & 452600\\\\\n\t2 & 1 & 0 & 0 & 0 & 0 & -1.322812 & 1.043159 & -0.6070042 &  0.8614180 &  1.6699206 &  2.33218146 & -0.248535936 &  0.3270334 & 358500\\\\\n\t3 & 1 & 0 & 0 & 0 & 0 & -1.332794 & 1.038478 &  1.8561366 & -0.8207575 & -0.8436165 &  1.78265622 & -0.052900657 &  1.1555925 & 352100\\\\\n\t4 & 1 & 0 & 0 & 0 & 0 & -1.337785 & 1.038478 &  1.8561366 & -0.7660095 & -0.7337637 &  0.93294491 & -0.053646030 &  0.1569623 & 341300\\\\\n\t5 & 1 & 0 & 0 & 0 & 0 & -1.337785 & 1.038478 &  1.8561366 & -0.7598283 & -0.6291419 & -0.01288068 & -0.038194658 &  0.3447024 & 342200\\\\\n\t6 & 1 & 0 & 0 & 0 & 0 & -1.337785 & 1.038478 &  1.8561366 & -0.8940491 & -0.8017678 &  0.08744452 &  0.005232996 & -0.2697231 & 269700\\\\\n\\end{tabular}\n",
            "text/markdown": "\nA data.frame: 6 × 14\n\n| <!--/--> | NEAR BAY &lt;dbl&gt; | &lt;1H OCEAN &lt;dbl&gt; | INLAND &lt;dbl&gt; | NEAR OCEAN &lt;dbl&gt; | ISLAND &lt;dbl&gt; | longitude &lt;dbl&gt; | latitude &lt;dbl&gt; | housing_median_age &lt;dbl&gt; | population &lt;dbl&gt; | households &lt;dbl&gt; | median_income &lt;dbl&gt; | mean_bedrooms &lt;dbl&gt; | mean_rooms &lt;dbl&gt; | median_house_value &lt;dbl&gt; |\n|---|---|---|---|---|---|---|---|---|---|---|---|---|---|---|\n| 1 | 1 | 0 | 0 | 0 | 0 | -1.327803 | 1.052523 |  0.9821189 | -0.9744050 | -0.9770092 |  2.34470896 | -0.148510661 |  0.6285442 | 452600 |\n| 2 | 1 | 0 | 0 | 0 | 0 | -1.322812 | 1.043159 | -0.6070042 |  0.8614180 |  1.6699206 |  2.33218146 | -0.248535936 |  0.3270334 | 358500 |\n| 3 | 1 | 0 | 0 | 0 | 0 | -1.332794 | 1.038478 |  1.8561366 | -0.8207575 | -0.8436165 |  1.78265622 | -0.052900657 |  1.1555925 | 352100 |\n| 4 | 1 | 0 | 0 | 0 | 0 | -1.337785 | 1.038478 |  1.8561366 | -0.7660095 | -0.7337637 |  0.93294491 | -0.053646030 |  0.1569623 | 341300 |\n| 5 | 1 | 0 | 0 | 0 | 0 | -1.337785 | 1.038478 |  1.8561366 | -0.7598283 | -0.6291419 | -0.01288068 | -0.038194658 |  0.3447024 | 342200 |\n| 6 | 1 | 0 | 0 | 0 | 0 | -1.337785 | 1.038478 |  1.8561366 | -0.8940491 | -0.8017678 |  0.08744452 |  0.005232996 | -0.2697231 | 269700 |\n\n",
            "text/html": [
              "<table class=\"dataframe\">\n",
              "<caption>A data.frame: 6 × 14</caption>\n",
              "<thead>\n",
              "\t<tr><th></th><th scope=col>NEAR BAY</th><th scope=col>&lt;1H OCEAN</th><th scope=col>INLAND</th><th scope=col>NEAR OCEAN</th><th scope=col>ISLAND</th><th scope=col>longitude</th><th scope=col>latitude</th><th scope=col>housing_median_age</th><th scope=col>population</th><th scope=col>households</th><th scope=col>median_income</th><th scope=col>mean_bedrooms</th><th scope=col>mean_rooms</th><th scope=col>median_house_value</th></tr>\n",
              "\t<tr><th></th><th scope=col>&lt;dbl&gt;</th><th scope=col>&lt;dbl&gt;</th><th scope=col>&lt;dbl&gt;</th><th scope=col>&lt;dbl&gt;</th><th scope=col>&lt;dbl&gt;</th><th scope=col>&lt;dbl&gt;</th><th scope=col>&lt;dbl&gt;</th><th scope=col>&lt;dbl&gt;</th><th scope=col>&lt;dbl&gt;</th><th scope=col>&lt;dbl&gt;</th><th scope=col>&lt;dbl&gt;</th><th scope=col>&lt;dbl&gt;</th><th scope=col>&lt;dbl&gt;</th><th scope=col>&lt;dbl&gt;</th></tr>\n",
              "</thead>\n",
              "<tbody>\n",
              "\t<tr><th scope=row>1</th><td>1</td><td>0</td><td>0</td><td>0</td><td>0</td><td>-1.327803</td><td>1.052523</td><td> 0.9821189</td><td>-0.9744050</td><td>-0.9770092</td><td> 2.34470896</td><td>-0.148510661</td><td> 0.6285442</td><td>452600</td></tr>\n",
              "\t<tr><th scope=row>2</th><td>1</td><td>0</td><td>0</td><td>0</td><td>0</td><td>-1.322812</td><td>1.043159</td><td>-0.6070042</td><td> 0.8614180</td><td> 1.6699206</td><td> 2.33218146</td><td>-0.248535936</td><td> 0.3270334</td><td>358500</td></tr>\n",
              "\t<tr><th scope=row>3</th><td>1</td><td>0</td><td>0</td><td>0</td><td>0</td><td>-1.332794</td><td>1.038478</td><td> 1.8561366</td><td>-0.8207575</td><td>-0.8436165</td><td> 1.78265622</td><td>-0.052900657</td><td> 1.1555925</td><td>352100</td></tr>\n",
              "\t<tr><th scope=row>4</th><td>1</td><td>0</td><td>0</td><td>0</td><td>0</td><td>-1.337785</td><td>1.038478</td><td> 1.8561366</td><td>-0.7660095</td><td>-0.7337637</td><td> 0.93294491</td><td>-0.053646030</td><td> 0.1569623</td><td>341300</td></tr>\n",
              "\t<tr><th scope=row>5</th><td>1</td><td>0</td><td>0</td><td>0</td><td>0</td><td>-1.337785</td><td>1.038478</td><td> 1.8561366</td><td>-0.7598283</td><td>-0.6291419</td><td>-0.01288068</td><td>-0.038194658</td><td> 0.3447024</td><td>342200</td></tr>\n",
              "\t<tr><th scope=row>6</th><td>1</td><td>0</td><td>0</td><td>0</td><td>0</td><td>-1.337785</td><td>1.038478</td><td> 1.8561366</td><td>-0.8940491</td><td>-0.8017678</td><td> 0.08744452</td><td> 0.005232996</td><td>-0.2697231</td><td>269700</td></tr>\n",
              "</tbody>\n",
              "</table>\n"
            ]
          },
          "metadata": {}
        }
      ]
    },
    {
      "cell_type": "markdown",
      "source": [
        "criando um data set de teste"
      ],
      "metadata": {
        "id": "ptjJZx2R9F_f"
      }
    },
    {
      "cell_type": "code",
      "source": [
        "set.seed(1738) # Set a random seed so that same sample can be reproduced in future runs\n",
        "\n",
        "sample = sample.int(n = nrow(cleaned_housing), size = floor(.8*nrow(cleaned_housing)), replace = F)\n",
        "train = cleaned_housing[sample, ] #just the samples\n",
        "test  = cleaned_housing[-sample, ] #everything but the samples"
      ],
      "metadata": {
        "id": "KTjo-43d9AsZ"
      },
      "execution_count": 33,
      "outputs": []
    },
    {
      "cell_type": "code",
      "source": [
        "head(train)"
      ],
      "metadata": {
        "colab": {
          "base_uri": "https://localhost:8080/",
          "height": 323
        },
        "id": "PvqluaNW9JyB",
        "outputId": "a873e71b-6999-42c1-87ad-512bf3b2d9cc"
      },
      "execution_count": 34,
      "outputs": [
        {
          "output_type": "display_data",
          "data": {
            "text/plain": [
              "      NEAR BAY <1H OCEAN INLAND NEAR OCEAN ISLAND longitude  latitude  \n",
              "15797 1        0         0      0          0      -1.4226356  0.9963418\n",
              "11425 0        1         0      0          0       0.7984423 -0.8997679\n",
              "9208  0        0         1      0          0      -0.1399007  0.6873461\n",
              "8778  0        1         0      0          0       0.6287420 -0.8623139\n",
              "18375 0        1         0      0          0      -1.1431292  0.7482089\n",
              "19571 0        0         1      0          0      -0.6889312  0.9167520\n",
              "      housing_median_age population households   median_income mean_bedrooms\n",
              "15797  1.8561366          0.7360275  1.254049198 -0.7002610    -0.09402939  \n",
              "11425 -0.2891796          0.1938460 -0.006642643  1.0257957    -0.26800948  \n",
              "9208  -1.6399342         -0.8940491 -0.924698320 -0.2609040     0.09587571  \n",
              "8778   0.5053819         -0.0454556  0.079670283 -0.3281734    -0.07443967  \n",
              "18375 -0.3686357          0.4508082  0.398766559  1.0631150    -0.14119530  \n",
              "19571  1.1410312         -0.4975679 -0.438207278 -1.0654005    -0.06673316  \n",
              "      mean_rooms  median_house_value\n",
              "15797 -0.71339265 250000            \n",
              "11425  0.46743428 286100            \n",
              "9208   0.09790468  80700            \n",
              "8778  -0.44792541 254700            \n",
              "18375  0.49424219 271400            \n",
              "19571 -0.29391335  81500            "
            ],
            "text/latex": "A data.frame: 6 × 14\n\\begin{tabular}{r|llllllllllllll}\n  & NEAR BAY & <1H OCEAN & INLAND & NEAR OCEAN & ISLAND & longitude & latitude & housing\\_median\\_age & population & households & median\\_income & mean\\_bedrooms & mean\\_rooms & median\\_house\\_value\\\\\n  & <dbl> & <dbl> & <dbl> & <dbl> & <dbl> & <dbl> & <dbl> & <dbl> & <dbl> & <dbl> & <dbl> & <dbl> & <dbl> & <dbl>\\\\\n\\hline\n\t15797 & 1 & 0 & 0 & 0 & 0 & -1.4226356 &  0.9963418 &  1.8561366 &  0.7360275 &  1.254049198 & -0.7002610 & -0.09402939 & -0.71339265 & 250000\\\\\n\t11425 & 0 & 1 & 0 & 0 & 0 &  0.7984423 & -0.8997679 & -0.2891796 &  0.1938460 & -0.006642643 &  1.0257957 & -0.26800948 &  0.46743428 & 286100\\\\\n\t9208 & 0 & 0 & 1 & 0 & 0 & -0.1399007 &  0.6873461 & -1.6399342 & -0.8940491 & -0.924698320 & -0.2609040 &  0.09587571 &  0.09790468 &  80700\\\\\n\t8778 & 0 & 1 & 0 & 0 & 0 &  0.6287420 & -0.8623139 &  0.5053819 & -0.0454556 &  0.079670283 & -0.3281734 & -0.07443967 & -0.44792541 & 254700\\\\\n\t18375 & 0 & 1 & 0 & 0 & 0 & -1.1431292 &  0.7482089 & -0.3686357 &  0.4508082 &  0.398766559 &  1.0631150 & -0.14119530 &  0.49424219 & 271400\\\\\n\t19571 & 0 & 0 & 1 & 0 & 0 & -0.6889312 &  0.9167520 &  1.1410312 & -0.4975679 & -0.438207278 & -1.0654005 & -0.06673316 & -0.29391335 &  81500\\\\\n\\end{tabular}\n",
            "text/markdown": "\nA data.frame: 6 × 14\n\n| <!--/--> | NEAR BAY &lt;dbl&gt; | &lt;1H OCEAN &lt;dbl&gt; | INLAND &lt;dbl&gt; | NEAR OCEAN &lt;dbl&gt; | ISLAND &lt;dbl&gt; | longitude &lt;dbl&gt; | latitude &lt;dbl&gt; | housing_median_age &lt;dbl&gt; | population &lt;dbl&gt; | households &lt;dbl&gt; | median_income &lt;dbl&gt; | mean_bedrooms &lt;dbl&gt; | mean_rooms &lt;dbl&gt; | median_house_value &lt;dbl&gt; |\n|---|---|---|---|---|---|---|---|---|---|---|---|---|---|---|\n| 15797 | 1 | 0 | 0 | 0 | 0 | -1.4226356 |  0.9963418 |  1.8561366 |  0.7360275 |  1.254049198 | -0.7002610 | -0.09402939 | -0.71339265 | 250000 |\n| 11425 | 0 | 1 | 0 | 0 | 0 |  0.7984423 | -0.8997679 | -0.2891796 |  0.1938460 | -0.006642643 |  1.0257957 | -0.26800948 |  0.46743428 | 286100 |\n| 9208 | 0 | 0 | 1 | 0 | 0 | -0.1399007 |  0.6873461 | -1.6399342 | -0.8940491 | -0.924698320 | -0.2609040 |  0.09587571 |  0.09790468 |  80700 |\n| 8778 | 0 | 1 | 0 | 0 | 0 |  0.6287420 | -0.8623139 |  0.5053819 | -0.0454556 |  0.079670283 | -0.3281734 | -0.07443967 | -0.44792541 | 254700 |\n| 18375 | 0 | 1 | 0 | 0 | 0 | -1.1431292 |  0.7482089 | -0.3686357 |  0.4508082 |  0.398766559 |  1.0631150 | -0.14119530 |  0.49424219 | 271400 |\n| 19571 | 0 | 0 | 1 | 0 | 0 | -0.6889312 |  0.9167520 |  1.1410312 | -0.4975679 | -0.438207278 | -1.0654005 | -0.06673316 | -0.29391335 |  81500 |\n\n",
            "text/html": [
              "<table class=\"dataframe\">\n",
              "<caption>A data.frame: 6 × 14</caption>\n",
              "<thead>\n",
              "\t<tr><th></th><th scope=col>NEAR BAY</th><th scope=col>&lt;1H OCEAN</th><th scope=col>INLAND</th><th scope=col>NEAR OCEAN</th><th scope=col>ISLAND</th><th scope=col>longitude</th><th scope=col>latitude</th><th scope=col>housing_median_age</th><th scope=col>population</th><th scope=col>households</th><th scope=col>median_income</th><th scope=col>mean_bedrooms</th><th scope=col>mean_rooms</th><th scope=col>median_house_value</th></tr>\n",
              "\t<tr><th></th><th scope=col>&lt;dbl&gt;</th><th scope=col>&lt;dbl&gt;</th><th scope=col>&lt;dbl&gt;</th><th scope=col>&lt;dbl&gt;</th><th scope=col>&lt;dbl&gt;</th><th scope=col>&lt;dbl&gt;</th><th scope=col>&lt;dbl&gt;</th><th scope=col>&lt;dbl&gt;</th><th scope=col>&lt;dbl&gt;</th><th scope=col>&lt;dbl&gt;</th><th scope=col>&lt;dbl&gt;</th><th scope=col>&lt;dbl&gt;</th><th scope=col>&lt;dbl&gt;</th><th scope=col>&lt;dbl&gt;</th></tr>\n",
              "</thead>\n",
              "<tbody>\n",
              "\t<tr><th scope=row>15797</th><td>1</td><td>0</td><td>0</td><td>0</td><td>0</td><td>-1.4226356</td><td> 0.9963418</td><td> 1.8561366</td><td> 0.7360275</td><td> 1.254049198</td><td>-0.7002610</td><td>-0.09402939</td><td>-0.71339265</td><td>250000</td></tr>\n",
              "\t<tr><th scope=row>11425</th><td>0</td><td>1</td><td>0</td><td>0</td><td>0</td><td> 0.7984423</td><td>-0.8997679</td><td>-0.2891796</td><td> 0.1938460</td><td>-0.006642643</td><td> 1.0257957</td><td>-0.26800948</td><td> 0.46743428</td><td>286100</td></tr>\n",
              "\t<tr><th scope=row>9208</th><td>0</td><td>0</td><td>1</td><td>0</td><td>0</td><td>-0.1399007</td><td> 0.6873461</td><td>-1.6399342</td><td>-0.8940491</td><td>-0.924698320</td><td>-0.2609040</td><td> 0.09587571</td><td> 0.09790468</td><td> 80700</td></tr>\n",
              "\t<tr><th scope=row>8778</th><td>0</td><td>1</td><td>0</td><td>0</td><td>0</td><td> 0.6287420</td><td>-0.8623139</td><td> 0.5053819</td><td>-0.0454556</td><td> 0.079670283</td><td>-0.3281734</td><td>-0.07443967</td><td>-0.44792541</td><td>254700</td></tr>\n",
              "\t<tr><th scope=row>18375</th><td>0</td><td>1</td><td>0</td><td>0</td><td>0</td><td>-1.1431292</td><td> 0.7482089</td><td>-0.3686357</td><td> 0.4508082</td><td> 0.398766559</td><td> 1.0631150</td><td>-0.14119530</td><td> 0.49424219</td><td>271400</td></tr>\n",
              "\t<tr><th scope=row>19571</th><td>0</td><td>0</td><td>1</td><td>0</td><td>0</td><td>-0.6889312</td><td> 0.9167520</td><td> 1.1410312</td><td>-0.4975679</td><td>-0.438207278</td><td>-1.0654005</td><td>-0.06673316</td><td>-0.29391335</td><td> 81500</td></tr>\n",
              "</tbody>\n",
              "</table>\n"
            ]
          },
          "metadata": {}
        }
      ]
    },
    {
      "cell_type": "code",
      "source": [
        "nrow(train) + nrow(test) == nrow(cleaned_housing)"
      ],
      "metadata": {
        "colab": {
          "base_uri": "https://localhost:8080/",
          "height": 35
        },
        "id": "UvOSmtg29M4G",
        "outputId": "2cdb2017-c8d3-416c-f64f-0335e2da4d31"
      },
      "execution_count": 35,
      "outputs": [
        {
          "output_type": "display_data",
          "data": {
            "text/plain": [
              "[1] TRUE"
            ],
            "text/latex": "TRUE",
            "text/markdown": "TRUE",
            "text/html": [
              "TRUE"
            ]
          },
          "metadata": {}
        }
      ]
    },
    {
      "cell_type": "markdown",
      "source": [
        "testar modelos preditivos"
      ],
      "metadata": {
        "id": "SlskyL7R9RpG"
      }
    },
    {
      "cell_type": "code",
      "source": [
        "library('boot')"
      ],
      "metadata": {
        "id": "eYaOAJzu9Pxc"
      },
      "execution_count": 36,
      "outputs": []
    },
    {
      "cell_type": "code",
      "source": [
        "glm_house = glm(median_house_value~median_income+mean_rooms+population, data=cleaned_housing)\n",
        "k_fold_cv_error = cv.glm(cleaned_housing , glm_house, K=5)"
      ],
      "metadata": {
        "id": "4yP61BBQ9VW7"
      },
      "execution_count": 37,
      "outputs": []
    },
    {
      "cell_type": "code",
      "source": [
        "k_fold_cv_error$delta"
      ],
      "metadata": {
        "colab": {
          "base_uri": "https://localhost:8080/",
          "height": 35
        },
        "id": "3eQz4mmZ9bC8",
        "outputId": "e89e0e34-4257-4e9f-d250-0c4969d928c2"
      },
      "execution_count": 38,
      "outputs": [
        {
          "output_type": "display_data",
          "data": {
            "text/plain": [
              "[1] 6993810248 6983982760"
            ],
            "text/latex": "\\begin{enumerate*}\n\\item 6993810247.51825\n\\item 6983982759.59983\n\\end{enumerate*}\n",
            "text/markdown": "1. 6993810247.51825\n2. 6983982759.59983\n\n\n",
            "text/html": [
              "<style>\n",
              ".list-inline {list-style: none; margin:0; padding: 0}\n",
              ".list-inline>li {display: inline-block}\n",
              ".list-inline>li:not(:last-child)::after {content: \"\\00b7\"; padding: 0 .5ex}\n",
              "</style>\n",
              "<ol class=list-inline><li>6993810247.51825</li><li>6983982759.59983</li></ol>\n"
            ]
          },
          "metadata": {}
        }
      ]
    },
    {
      "cell_type": "code",
      "source": [
        "glm_cv_rmse = sqrt(k_fold_cv_error$delta)[1]\n",
        "glm_cv_rmse #off by about $83,000... it is a start"
      ],
      "metadata": {
        "colab": {
          "base_uri": "https://localhost:8080/",
          "height": 35
        },
        "id": "1HyBYMl-9e5l",
        "outputId": "5308d0cc-f9ce-49b4-e0c3-db0962072e96"
      },
      "execution_count": 39,
      "outputs": [
        {
          "output_type": "display_data",
          "data": {
            "text/plain": [
              "[1] 83629"
            ],
            "text/latex": "83629.0036262435",
            "text/markdown": "83629.0036262435",
            "text/html": [
              "83629.0036262435"
            ]
          },
          "metadata": {}
        }
      ]
    },
    {
      "cell_type": "code",
      "source": [
        "names(glm_house) #what parts of the model are callable?\n"
      ],
      "metadata": {
        "colab": {
          "base_uri": "https://localhost:8080/",
          "height": 69
        },
        "id": "2fzqVP3t9lUb",
        "outputId": "97a1df5c-0d3e-4652-95d3-2badf28b69ba"
      },
      "execution_count": 40,
      "outputs": [
        {
          "output_type": "display_data",
          "data": {
            "text/plain": [
              " [1] \"coefficients\"      \"residuals\"         \"fitted.values\"    \n",
              " [4] \"effects\"           \"R\"                 \"rank\"             \n",
              " [7] \"qr\"                \"family\"            \"linear.predictors\"\n",
              "[10] \"deviance\"          \"aic\"               \"null.deviance\"    \n",
              "[13] \"iter\"              \"weights\"           \"prior.weights\"    \n",
              "[16] \"df.residual\"       \"df.null\"           \"y\"                \n",
              "[19] \"converged\"         \"boundary\"          \"model\"            \n",
              "[22] \"call\"              \"formula\"           \"terms\"            \n",
              "[25] \"data\"              \"offset\"            \"control\"          \n",
              "[28] \"method\"            \"contrasts\"         \"xlevels\"          "
            ],
            "text/latex": "\\begin{enumerate*}\n\\item 'coefficients'\n\\item 'residuals'\n\\item 'fitted.values'\n\\item 'effects'\n\\item 'R'\n\\item 'rank'\n\\item 'qr'\n\\item 'family'\n\\item 'linear.predictors'\n\\item 'deviance'\n\\item 'aic'\n\\item 'null.deviance'\n\\item 'iter'\n\\item 'weights'\n\\item 'prior.weights'\n\\item 'df.residual'\n\\item 'df.null'\n\\item 'y'\n\\item 'converged'\n\\item 'boundary'\n\\item 'model'\n\\item 'call'\n\\item 'formula'\n\\item 'terms'\n\\item 'data'\n\\item 'offset'\n\\item 'control'\n\\item 'method'\n\\item 'contrasts'\n\\item 'xlevels'\n\\end{enumerate*}\n",
            "text/markdown": "1. 'coefficients'\n2. 'residuals'\n3. 'fitted.values'\n4. 'effects'\n5. 'R'\n6. 'rank'\n7. 'qr'\n8. 'family'\n9. 'linear.predictors'\n10. 'deviance'\n11. 'aic'\n12. 'null.deviance'\n13. 'iter'\n14. 'weights'\n15. 'prior.weights'\n16. 'df.residual'\n17. 'df.null'\n18. 'y'\n19. 'converged'\n20. 'boundary'\n21. 'model'\n22. 'call'\n23. 'formula'\n24. 'terms'\n25. 'data'\n26. 'offset'\n27. 'control'\n28. 'method'\n29. 'contrasts'\n30. 'xlevels'\n\n\n",
            "text/html": [
              "<style>\n",
              ".list-inline {list-style: none; margin:0; padding: 0}\n",
              ".list-inline>li {display: inline-block}\n",
              ".list-inline>li:not(:last-child)::after {content: \"\\00b7\"; padding: 0 .5ex}\n",
              "</style>\n",
              "<ol class=list-inline><li>'coefficients'</li><li>'residuals'</li><li>'fitted.values'</li><li>'effects'</li><li>'R'</li><li>'rank'</li><li>'qr'</li><li>'family'</li><li>'linear.predictors'</li><li>'deviance'</li><li>'aic'</li><li>'null.deviance'</li><li>'iter'</li><li>'weights'</li><li>'prior.weights'</li><li>'df.residual'</li><li>'df.null'</li><li>'y'</li><li>'converged'</li><li>'boundary'</li><li>'model'</li><li>'call'</li><li>'formula'</li><li>'terms'</li><li>'data'</li><li>'offset'</li><li>'control'</li><li>'method'</li><li>'contrasts'</li><li>'xlevels'</li></ol>\n"
            ]
          },
          "metadata": {}
        }
      ]
    },
    {
      "cell_type": "code",
      "source": [
        "glm_house$coefficients"
      ],
      "metadata": {
        "colab": {
          "base_uri": "https://localhost:8080/",
          "height": 52
        },
        "id": "Zmkj-Bjb9oJI",
        "outputId": "d43124cb-140b-4004-b4eb-f9d7cf685f48"
      },
      "execution_count": 41,
      "outputs": [
        {
          "output_type": "display_data",
          "data": {
            "text/plain": [
              "  (Intercept) median_income    mean_rooms    population \n",
              "   206855.817     82608.959     -9755.442     -3948.293 "
            ],
            "text/latex": "\\begin{description*}\n\\item[(Intercept)] 206855.816908914\n\\item[median\\textbackslash{}\\_income] 82608.9593842245\n\\item[mean\\textbackslash{}\\_rooms] -9755.44247542691\n\\item[population] -3948.29342917358\n\\end{description*}\n",
            "text/markdown": "(Intercept)\n:   206855.816908914median_income\n:   82608.9593842245mean_rooms\n:   -9755.44247542691population\n:   -3948.29342917358\n\n",
            "text/html": [
              "<style>\n",
              ".dl-inline {width: auto; margin:0; padding: 0}\n",
              ".dl-inline>dt, .dl-inline>dd {float: none; width: auto; display: inline-block}\n",
              ".dl-inline>dt::after {content: \":\\0020\"; padding-right: .5ex}\n",
              ".dl-inline>dt:not(:first-of-type) {padding-left: .5ex}\n",
              "</style><dl class=dl-inline><dt>(Intercept)</dt><dd>206855.816908914</dd><dt>median_income</dt><dd>82608.9593842245</dd><dt>mean_rooms</dt><dd>-9755.44247542691</dd><dt>population</dt><dd>-3948.29342917358</dd></dl>\n"
            ]
          },
          "metadata": {}
        }
      ]
    },
    {
      "cell_type": "markdown",
      "source": [
        "MODELO RANDOM FOREST"
      ],
      "metadata": {
        "id": "G-CKlYXa9tJm"
      }
    },
    {
      "cell_type": "code",
      "source": [
        "install.packages('randomForest')"
      ],
      "metadata": {
        "colab": {
          "base_uri": "https://localhost:8080/"
        },
        "id": "1AHahzAQ9qh-",
        "outputId": "113cee1c-b805-4d67-9134-8d6e66d74f49"
      },
      "execution_count": 45,
      "outputs": [
        {
          "output_type": "stream",
          "name": "stderr",
          "text": [
            "Installing package into ‘/usr/local/lib/R/site-library’\n",
            "(as ‘lib’ is unspecified)\n",
            "\n"
          ]
        }
      ]
    },
    {
      "cell_type": "code",
      "source": [
        "library('randomForest')"
      ],
      "metadata": {
        "id": "x6lO8Mci9w_z"
      },
      "execution_count": 48,
      "outputs": []
    },
    {
      "cell_type": "code",
      "source": [
        "names(train)"
      ],
      "metadata": {
        "colab": {
          "base_uri": "https://localhost:8080/",
          "height": 52
        },
        "id": "mwqCRvkP-Cdb",
        "outputId": "55eb5d65-7f6b-47d7-d934-e8943c9f9dc0"
      },
      "execution_count": 49,
      "outputs": [
        {
          "output_type": "display_data",
          "data": {
            "text/plain": [
              " [1] \"NEAR BAY\"           \"<1H OCEAN\"          \"INLAND\"            \n",
              " [4] \"NEAR OCEAN\"         \"ISLAND\"             \"longitude\"         \n",
              " [7] \"latitude\"           \"housing_median_age\" \"population\"        \n",
              "[10] \"households\"         \"median_income\"      \"mean_bedrooms\"     \n",
              "[13] \"mean_rooms\"         \"median_house_value\""
            ],
            "text/latex": "\\begin{enumerate*}\n\\item 'NEAR BAY'\n\\item '<1H OCEAN'\n\\item 'INLAND'\n\\item 'NEAR OCEAN'\n\\item 'ISLAND'\n\\item 'longitude'\n\\item 'latitude'\n\\item 'housing\\_median\\_age'\n\\item 'population'\n\\item 'households'\n\\item 'median\\_income'\n\\item 'mean\\_bedrooms'\n\\item 'mean\\_rooms'\n\\item 'median\\_house\\_value'\n\\end{enumerate*}\n",
            "text/markdown": "1. 'NEAR BAY'\n2. '&lt;1H OCEAN'\n3. 'INLAND'\n4. 'NEAR OCEAN'\n5. 'ISLAND'\n6. 'longitude'\n7. 'latitude'\n8. 'housing_median_age'\n9. 'population'\n10. 'households'\n11. 'median_income'\n12. 'mean_bedrooms'\n13. 'mean_rooms'\n14. 'median_house_value'\n\n\n",
            "text/html": [
              "<style>\n",
              ".list-inline {list-style: none; margin:0; padding: 0}\n",
              ".list-inline>li {display: inline-block}\n",
              ".list-inline>li:not(:last-child)::after {content: \"\\00b7\"; padding: 0 .5ex}\n",
              "</style>\n",
              "<ol class=list-inline><li>'NEAR BAY'</li><li>'&lt;1H OCEAN'</li><li>'INLAND'</li><li>'NEAR OCEAN'</li><li>'ISLAND'</li><li>'longitude'</li><li>'latitude'</li><li>'housing_median_age'</li><li>'population'</li><li>'households'</li><li>'median_income'</li><li>'mean_bedrooms'</li><li>'mean_rooms'</li><li>'median_house_value'</li></ol>\n"
            ]
          },
          "metadata": {}
        }
      ]
    },
    {
      "cell_type": "code",
      "source": [
        "set.seed(1738)\n",
        "\n",
        "train_y = train[,'median_house_value']\n",
        "train_x = train[, names(train) !='median_house_value']\n",
        "\n",
        "head(train_y)\n",
        "head(train_x)"
      ],
      "metadata": {
        "colab": {
          "base_uri": "https://localhost:8080/",
          "height": 341
        },
        "id": "rYobZAVB-KQ1",
        "outputId": "6dee7871-ad21-4f35-c8f9-9c3b3ec03ed2"
      },
      "execution_count": 50,
      "outputs": [
        {
          "output_type": "display_data",
          "data": {
            "text/plain": [
              "[1] 250000 286100  80700 254700 271400  81500"
            ],
            "text/latex": "\\begin{enumerate*}\n\\item 250000\n\\item 286100\n\\item 80700\n\\item 254700\n\\item 271400\n\\item 81500\n\\end{enumerate*}\n",
            "text/markdown": "1. 250000\n2. 286100\n3. 80700\n4. 254700\n5. 271400\n6. 81500\n\n\n",
            "text/html": [
              "<style>\n",
              ".list-inline {list-style: none; margin:0; padding: 0}\n",
              ".list-inline>li {display: inline-block}\n",
              ".list-inline>li:not(:last-child)::after {content: \"\\00b7\"; padding: 0 .5ex}\n",
              "</style>\n",
              "<ol class=list-inline><li>250000</li><li>286100</li><li>80700</li><li>254700</li><li>271400</li><li>81500</li></ol>\n"
            ]
          },
          "metadata": {}
        },
        {
          "output_type": "display_data",
          "data": {
            "text/plain": [
              "      NEAR BAY <1H OCEAN INLAND NEAR OCEAN ISLAND longitude  latitude  \n",
              "15797 1        0         0      0          0      -1.4226356  0.9963418\n",
              "11425 0        1         0      0          0       0.7984423 -0.8997679\n",
              "9208  0        0         1      0          0      -0.1399007  0.6873461\n",
              "8778  0        1         0      0          0       0.6287420 -0.8623139\n",
              "18375 0        1         0      0          0      -1.1431292  0.7482089\n",
              "19571 0        0         1      0          0      -0.6889312  0.9167520\n",
              "      housing_median_age population households   median_income mean_bedrooms\n",
              "15797  1.8561366          0.7360275  1.254049198 -0.7002610    -0.09402939  \n",
              "11425 -0.2891796          0.1938460 -0.006642643  1.0257957    -0.26800948  \n",
              "9208  -1.6399342         -0.8940491 -0.924698320 -0.2609040     0.09587571  \n",
              "8778   0.5053819         -0.0454556  0.079670283 -0.3281734    -0.07443967  \n",
              "18375 -0.3686357          0.4508082  0.398766559  1.0631150    -0.14119530  \n",
              "19571  1.1410312         -0.4975679 -0.438207278 -1.0654005    -0.06673316  \n",
              "      mean_rooms \n",
              "15797 -0.71339265\n",
              "11425  0.46743428\n",
              "9208   0.09790468\n",
              "8778  -0.44792541\n",
              "18375  0.49424219\n",
              "19571 -0.29391335"
            ],
            "text/latex": "A data.frame: 6 × 13\n\\begin{tabular}{r|lllllllllllll}\n  & NEAR BAY & <1H OCEAN & INLAND & NEAR OCEAN & ISLAND & longitude & latitude & housing\\_median\\_age & population & households & median\\_income & mean\\_bedrooms & mean\\_rooms\\\\\n  & <dbl> & <dbl> & <dbl> & <dbl> & <dbl> & <dbl> & <dbl> & <dbl> & <dbl> & <dbl> & <dbl> & <dbl> & <dbl>\\\\\n\\hline\n\t15797 & 1 & 0 & 0 & 0 & 0 & -1.4226356 &  0.9963418 &  1.8561366 &  0.7360275 &  1.254049198 & -0.7002610 & -0.09402939 & -0.71339265\\\\\n\t11425 & 0 & 1 & 0 & 0 & 0 &  0.7984423 & -0.8997679 & -0.2891796 &  0.1938460 & -0.006642643 &  1.0257957 & -0.26800948 &  0.46743428\\\\\n\t9208 & 0 & 0 & 1 & 0 & 0 & -0.1399007 &  0.6873461 & -1.6399342 & -0.8940491 & -0.924698320 & -0.2609040 &  0.09587571 &  0.09790468\\\\\n\t8778 & 0 & 1 & 0 & 0 & 0 &  0.6287420 & -0.8623139 &  0.5053819 & -0.0454556 &  0.079670283 & -0.3281734 & -0.07443967 & -0.44792541\\\\\n\t18375 & 0 & 1 & 0 & 0 & 0 & -1.1431292 &  0.7482089 & -0.3686357 &  0.4508082 &  0.398766559 &  1.0631150 & -0.14119530 &  0.49424219\\\\\n\t19571 & 0 & 0 & 1 & 0 & 0 & -0.6889312 &  0.9167520 &  1.1410312 & -0.4975679 & -0.438207278 & -1.0654005 & -0.06673316 & -0.29391335\\\\\n\\end{tabular}\n",
            "text/markdown": "\nA data.frame: 6 × 13\n\n| <!--/--> | NEAR BAY &lt;dbl&gt; | &lt;1H OCEAN &lt;dbl&gt; | INLAND &lt;dbl&gt; | NEAR OCEAN &lt;dbl&gt; | ISLAND &lt;dbl&gt; | longitude &lt;dbl&gt; | latitude &lt;dbl&gt; | housing_median_age &lt;dbl&gt; | population &lt;dbl&gt; | households &lt;dbl&gt; | median_income &lt;dbl&gt; | mean_bedrooms &lt;dbl&gt; | mean_rooms &lt;dbl&gt; |\n|---|---|---|---|---|---|---|---|---|---|---|---|---|---|\n| 15797 | 1 | 0 | 0 | 0 | 0 | -1.4226356 |  0.9963418 |  1.8561366 |  0.7360275 |  1.254049198 | -0.7002610 | -0.09402939 | -0.71339265 |\n| 11425 | 0 | 1 | 0 | 0 | 0 |  0.7984423 | -0.8997679 | -0.2891796 |  0.1938460 | -0.006642643 |  1.0257957 | -0.26800948 |  0.46743428 |\n| 9208 | 0 | 0 | 1 | 0 | 0 | -0.1399007 |  0.6873461 | -1.6399342 | -0.8940491 | -0.924698320 | -0.2609040 |  0.09587571 |  0.09790468 |\n| 8778 | 0 | 1 | 0 | 0 | 0 |  0.6287420 | -0.8623139 |  0.5053819 | -0.0454556 |  0.079670283 | -0.3281734 | -0.07443967 | -0.44792541 |\n| 18375 | 0 | 1 | 0 | 0 | 0 | -1.1431292 |  0.7482089 | -0.3686357 |  0.4508082 |  0.398766559 |  1.0631150 | -0.14119530 |  0.49424219 |\n| 19571 | 0 | 0 | 1 | 0 | 0 | -0.6889312 |  0.9167520 |  1.1410312 | -0.4975679 | -0.438207278 | -1.0654005 | -0.06673316 | -0.29391335 |\n\n",
            "text/html": [
              "<table class=\"dataframe\">\n",
              "<caption>A data.frame: 6 × 13</caption>\n",
              "<thead>\n",
              "\t<tr><th></th><th scope=col>NEAR BAY</th><th scope=col>&lt;1H OCEAN</th><th scope=col>INLAND</th><th scope=col>NEAR OCEAN</th><th scope=col>ISLAND</th><th scope=col>longitude</th><th scope=col>latitude</th><th scope=col>housing_median_age</th><th scope=col>population</th><th scope=col>households</th><th scope=col>median_income</th><th scope=col>mean_bedrooms</th><th scope=col>mean_rooms</th></tr>\n",
              "\t<tr><th></th><th scope=col>&lt;dbl&gt;</th><th scope=col>&lt;dbl&gt;</th><th scope=col>&lt;dbl&gt;</th><th scope=col>&lt;dbl&gt;</th><th scope=col>&lt;dbl&gt;</th><th scope=col>&lt;dbl&gt;</th><th scope=col>&lt;dbl&gt;</th><th scope=col>&lt;dbl&gt;</th><th scope=col>&lt;dbl&gt;</th><th scope=col>&lt;dbl&gt;</th><th scope=col>&lt;dbl&gt;</th><th scope=col>&lt;dbl&gt;</th><th scope=col>&lt;dbl&gt;</th></tr>\n",
              "</thead>\n",
              "<tbody>\n",
              "\t<tr><th scope=row>15797</th><td>1</td><td>0</td><td>0</td><td>0</td><td>0</td><td>-1.4226356</td><td> 0.9963418</td><td> 1.8561366</td><td> 0.7360275</td><td> 1.254049198</td><td>-0.7002610</td><td>-0.09402939</td><td>-0.71339265</td></tr>\n",
              "\t<tr><th scope=row>11425</th><td>0</td><td>1</td><td>0</td><td>0</td><td>0</td><td> 0.7984423</td><td>-0.8997679</td><td>-0.2891796</td><td> 0.1938460</td><td>-0.006642643</td><td> 1.0257957</td><td>-0.26800948</td><td> 0.46743428</td></tr>\n",
              "\t<tr><th scope=row>9208</th><td>0</td><td>0</td><td>1</td><td>0</td><td>0</td><td>-0.1399007</td><td> 0.6873461</td><td>-1.6399342</td><td>-0.8940491</td><td>-0.924698320</td><td>-0.2609040</td><td> 0.09587571</td><td> 0.09790468</td></tr>\n",
              "\t<tr><th scope=row>8778</th><td>0</td><td>1</td><td>0</td><td>0</td><td>0</td><td> 0.6287420</td><td>-0.8623139</td><td> 0.5053819</td><td>-0.0454556</td><td> 0.079670283</td><td>-0.3281734</td><td>-0.07443967</td><td>-0.44792541</td></tr>\n",
              "\t<tr><th scope=row>18375</th><td>0</td><td>1</td><td>0</td><td>0</td><td>0</td><td>-1.1431292</td><td> 0.7482089</td><td>-0.3686357</td><td> 0.4508082</td><td> 0.398766559</td><td> 1.0631150</td><td>-0.14119530</td><td> 0.49424219</td></tr>\n",
              "\t<tr><th scope=row>19571</th><td>0</td><td>0</td><td>1</td><td>0</td><td>0</td><td>-0.6889312</td><td> 0.9167520</td><td> 1.1410312</td><td>-0.4975679</td><td>-0.438207278</td><td>-1.0654005</td><td>-0.06673316</td><td>-0.29391335</td></tr>\n",
              "</tbody>\n",
              "</table>\n"
            ]
          },
          "metadata": {}
        }
      ]
    },
    {
      "cell_type": "code",
      "source": [
        "#some people like weird r format like this... I find it causes headaches\n",
        "#rf_model = randomForest(median_house_value~. , data = train, ntree =500, importance = TRUE)\n",
        "rf_model = randomForest(train_x, y = train_y , ntree = 500, importance = TRUE)"
      ],
      "metadata": {
        "id": "WlCL4LoI-NVl"
      },
      "execution_count": 51,
      "outputs": []
    },
    {
      "cell_type": "code",
      "source": [
        "names(rf_model) #these are all the different things you can call from the model."
      ],
      "metadata": {
        "colab": {
          "base_uri": "https://localhost:8080/",
          "height": 52
        },
        "id": "mEV1YiRW-U4m",
        "outputId": "6e55755c-c784-43b1-8e43-42a5f158a220"
      },
      "execution_count": 52,
      "outputs": [
        {
          "output_type": "display_data",
          "data": {
            "text/plain": [
              " [1] \"call\"            \"type\"            \"predicted\"       \"mse\"            \n",
              " [5] \"rsq\"             \"oob.times\"       \"importance\"      \"importanceSD\"   \n",
              " [9] \"localImportance\" \"proximity\"       \"ntree\"           \"mtry\"           \n",
              "[13] \"forest\"          \"coefs\"           \"y\"               \"test\"           \n",
              "[17] \"inbag\"          "
            ],
            "text/latex": "\\begin{enumerate*}\n\\item 'call'\n\\item 'type'\n\\item 'predicted'\n\\item 'mse'\n\\item 'rsq'\n\\item 'oob.times'\n\\item 'importance'\n\\item 'importanceSD'\n\\item 'localImportance'\n\\item 'proximity'\n\\item 'ntree'\n\\item 'mtry'\n\\item 'forest'\n\\item 'coefs'\n\\item 'y'\n\\item 'test'\n\\item 'inbag'\n\\end{enumerate*}\n",
            "text/markdown": "1. 'call'\n2. 'type'\n3. 'predicted'\n4. 'mse'\n5. 'rsq'\n6. 'oob.times'\n7. 'importance'\n8. 'importanceSD'\n9. 'localImportance'\n10. 'proximity'\n11. 'ntree'\n12. 'mtry'\n13. 'forest'\n14. 'coefs'\n15. 'y'\n16. 'test'\n17. 'inbag'\n\n\n",
            "text/html": [
              "<style>\n",
              ".list-inline {list-style: none; margin:0; padding: 0}\n",
              ".list-inline>li {display: inline-block}\n",
              ".list-inline>li:not(:last-child)::after {content: \"\\00b7\"; padding: 0 .5ex}\n",
              "</style>\n",
              "<ol class=list-inline><li>'call'</li><li>'type'</li><li>'predicted'</li><li>'mse'</li><li>'rsq'</li><li>'oob.times'</li><li>'importance'</li><li>'importanceSD'</li><li>'localImportance'</li><li>'proximity'</li><li>'ntree'</li><li>'mtry'</li><li>'forest'</li><li>'coefs'</li><li>'y'</li><li>'test'</li><li>'inbag'</li></ol>\n"
            ]
          },
          "metadata": {}
        }
      ]
    },
    {
      "cell_type": "code",
      "source": [
        "rf_model$importance"
      ],
      "metadata": {
        "colab": {
          "base_uri": "https://localhost:8080/",
          "height": 474
        },
        "id": "4EzfE6YZ_FPw",
        "outputId": "e08a6776-4502-4ec9-d7b3-f21e0eb01f8a"
      },
      "execution_count": 53,
      "outputs": [
        {
          "output_type": "display_data",
          "data": {
            "text/plain": [
              "                   %IncMSE    IncNodePurity\n",
              "NEAR BAY            486443080 1.312625e+12 \n",
              "<1H OCEAN          1621072507 4.289632e+12 \n",
              "INLAND             4045427703 3.068877e+13 \n",
              "NEAR OCEAN          539828604 2.299546e+12 \n",
              "ISLAND                1524086 6.496858e+10 \n",
              "longitude          6897270047 2.572075e+13 \n",
              "latitude           5710904041 2.255767e+13 \n",
              "housing_median_age 1082226582 9.661389e+12 \n",
              "population         1066423080 7.341037e+12 \n",
              "households         1193112832 7.923472e+12 \n",
              "median_income      8486026742 7.325002e+13 \n",
              "mean_bedrooms       402648032 7.555405e+12 \n",
              "mean_rooms         1820857979 2.120577e+13 "
            ],
            "text/latex": "A matrix: 13 × 2 of type dbl\n\\begin{tabular}{r|ll}\n  & \\%IncMSE & IncNodePurity\\\\\n\\hline\n\tNEAR BAY &  486443080 & 1.312625e+12\\\\\n\t<1H OCEAN & 1621072507 & 4.289632e+12\\\\\n\tINLAND & 4045427703 & 3.068877e+13\\\\\n\tNEAR OCEAN &  539828604 & 2.299546e+12\\\\\n\tISLAND &    1524086 & 6.496858e+10\\\\\n\tlongitude & 6897270047 & 2.572075e+13\\\\\n\tlatitude & 5710904041 & 2.255767e+13\\\\\n\thousing\\_median\\_age & 1082226582 & 9.661389e+12\\\\\n\tpopulation & 1066423080 & 7.341037e+12\\\\\n\thouseholds & 1193112832 & 7.923472e+12\\\\\n\tmedian\\_income & 8486026742 & 7.325002e+13\\\\\n\tmean\\_bedrooms &  402648032 & 7.555405e+12\\\\\n\tmean\\_rooms & 1820857979 & 2.120577e+13\\\\\n\\end{tabular}\n",
            "text/markdown": "\nA matrix: 13 × 2 of type dbl\n\n| <!--/--> | %IncMSE | IncNodePurity |\n|---|---|---|\n| NEAR BAY |  486443080 | 1.312625e+12 |\n| &lt;1H OCEAN | 1621072507 | 4.289632e+12 |\n| INLAND | 4045427703 | 3.068877e+13 |\n| NEAR OCEAN |  539828604 | 2.299546e+12 |\n| ISLAND |    1524086 | 6.496858e+10 |\n| longitude | 6897270047 | 2.572075e+13 |\n| latitude | 5710904041 | 2.255767e+13 |\n| housing_median_age | 1082226582 | 9.661389e+12 |\n| population | 1066423080 | 7.341037e+12 |\n| households | 1193112832 | 7.923472e+12 |\n| median_income | 8486026742 | 7.325002e+13 |\n| mean_bedrooms |  402648032 | 7.555405e+12 |\n| mean_rooms | 1820857979 | 2.120577e+13 |\n\n",
            "text/html": [
              "<table class=\"dataframe\">\n",
              "<caption>A matrix: 13 × 2 of type dbl</caption>\n",
              "<thead>\n",
              "\t<tr><th></th><th scope=col>%IncMSE</th><th scope=col>IncNodePurity</th></tr>\n",
              "</thead>\n",
              "<tbody>\n",
              "\t<tr><th scope=row>NEAR BAY</th><td> 486443080</td><td>1.312625e+12</td></tr>\n",
              "\t<tr><th scope=row>&lt;1H OCEAN</th><td>1621072507</td><td>4.289632e+12</td></tr>\n",
              "\t<tr><th scope=row>INLAND</th><td>4045427703</td><td>3.068877e+13</td></tr>\n",
              "\t<tr><th scope=row>NEAR OCEAN</th><td> 539828604</td><td>2.299546e+12</td></tr>\n",
              "\t<tr><th scope=row>ISLAND</th><td>   1524086</td><td>6.496858e+10</td></tr>\n",
              "\t<tr><th scope=row>longitude</th><td>6897270047</td><td>2.572075e+13</td></tr>\n",
              "\t<tr><th scope=row>latitude</th><td>5710904041</td><td>2.255767e+13</td></tr>\n",
              "\t<tr><th scope=row>housing_median_age</th><td>1082226582</td><td>9.661389e+12</td></tr>\n",
              "\t<tr><th scope=row>population</th><td>1066423080</td><td>7.341037e+12</td></tr>\n",
              "\t<tr><th scope=row>households</th><td>1193112832</td><td>7.923472e+12</td></tr>\n",
              "\t<tr><th scope=row>median_income</th><td>8486026742</td><td>7.325002e+13</td></tr>\n",
              "\t<tr><th scope=row>mean_bedrooms</th><td> 402648032</td><td>7.555405e+12</td></tr>\n",
              "\t<tr><th scope=row>mean_rooms</th><td>1820857979</td><td>2.120577e+13</td></tr>\n",
              "</tbody>\n",
              "</table>\n"
            ]
          },
          "metadata": {}
        }
      ]
    },
    {
      "cell_type": "markdown",
      "source": [
        "erro estimado ( out of bag )"
      ],
      "metadata": {
        "id": "fFIKpfnc_M9b"
      }
    },
    {
      "cell_type": "code",
      "source": [
        "oob_prediction = predict(rf_model) #leaving out a data source forces OOB predictions"
      ],
      "metadata": {
        "id": "qe_iEf2X_HiC"
      },
      "execution_count": 54,
      "outputs": []
    },
    {
      "cell_type": "code",
      "source": [
        "#you may have noticed that this is avaliable using the $mse in the model options.\n",
        "#but this way we learn stuff!\n",
        "train_mse = mean(as.numeric((oob_prediction - train_y)^2))\n",
        "oob_rmse = sqrt(train_mse)\n",
        "oob_rmse"
      ],
      "metadata": {
        "colab": {
          "base_uri": "https://localhost:8080/",
          "height": 35
        },
        "id": "R_uq3xTs_RRo",
        "outputId": "7003e69e-6fa6-4d4e-dec2-f140fbd443a9"
      },
      "execution_count": 55,
      "outputs": [
        {
          "output_type": "display_data",
          "data": {
            "text/plain": [
              "[1] 49126.22"
            ],
            "text/latex": "49126.2154371254",
            "text/markdown": "49126.2154371254",
            "text/html": [
              "49126.2154371254"
            ]
          },
          "metadata": {}
        }
      ]
    },
    {
      "cell_type": "code",
      "source": [
        "test_y = test[,'median_house_value']\n",
        "test_x = test[, names(test) !='median_house_value']\n"
      ],
      "metadata": {
        "id": "9ftdFM6s_T_h"
      },
      "execution_count": 56,
      "outputs": []
    },
    {
      "cell_type": "markdown",
      "source": [
        "Portanto, mesmo usando uma floresta aleatória de apenas 1000 árvores de decisão, podemos prever o preço médio de uma casa em um determinado distrito dentro de $ 49.000 do preço médio real da casa. Isso pode servir como nossa marca de seguir em frente e tentar outros modelos."
      ],
      "metadata": {
        "id": "vvMSK260AGL6"
      }
    },
    {
      "cell_type": "code",
      "source": [
        "y_pred = predict(rf_model , test_x)\n",
        "test_mse = mean(((y_pred - test_y)^2))\n",
        "test_rmse = sqrt(test_mse)\n",
        "test_rmse"
      ],
      "metadata": {
        "colab": {
          "base_uri": "https://localhost:8080/",
          "height": 35
        },
        "id": "vS0YCsmq_Z95",
        "outputId": "036a2776-d99b-43e9-c554-60b0a32e9990"
      },
      "execution_count": 57,
      "outputs": [
        {
          "output_type": "display_data",
          "data": {
            "text/plain": [
              "[1] 47625.57"
            ],
            "text/latex": "47625.565178873",
            "text/markdown": "47625.565178873",
            "text/html": [
              "47625.565178873"
            ]
          },
          "metadata": {}
        }
      ]
    },
    {
      "cell_type": "markdown",
      "source": [
        "Nosso modelo teve quase a mesma pontuação nos dados de treinamento e teste, sugerindo que não é overfit e que faz boas previsões"
      ],
      "metadata": {
        "id": "QFwa9eY-ABlf"
      }
    }
  ]
}